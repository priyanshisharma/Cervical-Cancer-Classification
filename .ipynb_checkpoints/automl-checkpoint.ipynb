{
 "cells": [
  {
   "cell_type": "markdown",
   "metadata": {},
   "source": [
    "# Automated ML\n",
    "\n",
    "TODO: Import Dependencies. In the cell below, import all the dependencies that you will need to complete the project."
   ]
  },
  {
   "cell_type": "code",
   "execution_count": null,
   "metadata": {
    "gather": {
     "logged": 1598423888013
    },
    "jupyter": {
     "outputs_hidden": false,
     "source_hidden": false
    },
    "nteract": {
     "transient": {
      "deleting": false
     }
    }
   },
   "outputs": [],
   "source": [
    "from azureml.core import Workspace, Experiment\n",
    "from azureml.data.dataset_factory import TabularDatasetFactory\n",
    "from train import clean_data\n",
    "import pandas as pd\n",
    "from sklearn.model_selection import train_test_split\n",
    "import os\n",
    "from azureml.core.compute import ComputeTarget, AmlCompute\n",
    "from azureml.core.compute_target import ComputeTargetException\n",
    "from azureml.train.automl import AutoMLConfig\n",
    "from azureml.widgets import RunDetails"
   ]
  },
  {
   "cell_type": "markdown",
   "metadata": {},
   "source": [
    "## Dataset\n",
    "\n",
    "### Overview\n",
    "## Dataset\n",
    "\n",
    "We're using the [UCI's Machine Learning repository's Cervical cancer (Risk Factors) Data Set](https://archive.ics.uci.edu/ml/datasets/Cervical+cancer+%28Risk+Factors%29). The dataset was collected at 'Hospital Universitario de Caracas' in Caracas, Venezuela. The dataset comprises demographic information, habits, and historic medical records of 858 patients. Several patients decided not to answer some of the questions because of privacy concerns (missing values).\n",
    "\n",
    "**Citation: Kelwin Fernandes, Jaime S. Cardoso, and Jessica Fernandes. 'Transfer Learning with Partial Observability Applied to Cervical Cancer Screening.' Iberian Conference on Pattern Recognition and Image Analysis. Springer International Publishing, 2017.**\n",
    "\n",
    "Our target variable here is **Biopsy**. Biopsy is a sample of tissue taken from the body in order to examine it more closely. A doctor should recommend a biopsy when an initial test suggests an area of tissue in the body isn't normal. Doctors may call an area of abnormal tissue a lesion, a tumor, or a mass.\n",
    "Here this categorical variable contains the *Biopsy Test Result*.\n",
    "\n",
    "More information about how the data is cleaned and used maybe found in the `data-cleaning.ipynb` and `train.py` files."
   ]
  },
  {
   "cell_type": "code",
   "execution_count": 1,
   "metadata": {
    "gather": {
     "logged": 1610803388601
    },
    "jupyter": {
     "outputs_hidden": false,
     "source_hidden": false
    },
    "nteract": {
     "transient": {
      "deleting": false
     }
    }
   },
   "outputs": [
    {
     "name": "stdout",
     "output_type": "stream",
     "text": [
      "Workspace name: quick-starts-ws-134869\n",
      "Azure region: southcentralus\n",
      "Subscription id: f5091c60-1c3c-430f-8d81-d802f6bf2414\n",
      "Resource group: aml-quickstarts-134869\n"
     ]
    }
   ],
   "source": [
    "ws = Workspace.from_config()\n",
    "\n",
    "# choose a name for experiment\n",
    "experiment_name = 'cervical-cancer-classification-automl-schiller'\n",
    "\n",
    "experiment=Experiment(ws, experiment_name)\n",
    "\n",
    "print('Workspace name: ' + ws.name, \n",
    "      'Azure region: ' + ws.location, \n",
    "      'Subscription id: ' + ws.subscription_id, \n",
    "      'Resource group: ' + ws.resource_group, sep = '\\n')\n",
    "\n",
    "run = experiment.start_logging()"
   ]
  },
  {
   "cell_type": "code",
   "execution_count": 2,
   "metadata": {
    "collapsed": true,
    "gather": {
     "logged": 1610803495212
    },
    "jupyter": {
     "outputs_hidden": false,
     "source_hidden": false
    },
    "nteract": {
     "transient": {
      "deleting": false
     }
    }
   },
   "outputs": [],
   "source": [
    "\n",
    "ds = TabularDatasetFactory.from_delimited_files(path=\"https://archive.ics.uci.edu/ml/machine-learning-databases/00383/risk_factors_cervical_cancer.csv\")\n"
   ]
  },
  {
   "cell_type": "code",
   "execution_count": 7,
   "metadata": {
    "collapsed": true,
    "gather": {
     "logged": 1610803663750
    },
    "jupyter": {
     "outputs_hidden": false,
     "source_hidden": false
    },
    "nteract": {
     "transient": {
      "deleting": false
     }
    }
   },
   "outputs": [
    {
     "data": {
      "text/html": [
       "<div>\n",
       "<style scoped>\n",
       "    .dataframe tbody tr th:only-of-type {\n",
       "        vertical-align: middle;\n",
       "    }\n",
       "\n",
       "    .dataframe tbody tr th {\n",
       "        vertical-align: top;\n",
       "    }\n",
       "\n",
       "    .dataframe thead th {\n",
       "        text-align: right;\n",
       "    }\n",
       "</style>\n",
       "<table border=\"1\" class=\"dataframe\">\n",
       "  <thead>\n",
       "    <tr style=\"text-align: right;\">\n",
       "      <th></th>\n",
       "      <th>Age</th>\n",
       "      <th>Number of sexual partners</th>\n",
       "      <th>First sexual intercourse</th>\n",
       "      <th>Num of pregnancies</th>\n",
       "      <th>Smokes</th>\n",
       "      <th>Smokes (years)</th>\n",
       "      <th>Smokes (packs/year)</th>\n",
       "      <th>Hormonal Contraceptives</th>\n",
       "      <th>Hormonal Contraceptives (years)</th>\n",
       "      <th>IUD</th>\n",
       "      <th>...</th>\n",
       "      <th>STDs:molluscum contagiosum</th>\n",
       "      <th>STDs:HIV</th>\n",
       "      <th>STDs:Hepatitis B</th>\n",
       "      <th>STDs:HPV</th>\n",
       "      <th>STDs: Number of diagnosis</th>\n",
       "      <th>Dx:Cancer</th>\n",
       "      <th>Dx:CIN</th>\n",
       "      <th>Dx:HPV</th>\n",
       "      <th>Dx</th>\n",
       "      <th>0</th>\n",
       "    </tr>\n",
       "  </thead>\n",
       "  <tbody>\n",
       "    <tr>\n",
       "      <th>0</th>\n",
       "      <td>18.0</td>\n",
       "      <td>4.0</td>\n",
       "      <td>15.000000</td>\n",
       "      <td>1.0</td>\n",
       "      <td>0.0</td>\n",
       "      <td>0.0</td>\n",
       "      <td>0.0</td>\n",
       "      <td>0.0</td>\n",
       "      <td>0.0</td>\n",
       "      <td>0.0</td>\n",
       "      <td>...</td>\n",
       "      <td>0.0</td>\n",
       "      <td>0.0</td>\n",
       "      <td>0.0</td>\n",
       "      <td>0.0</td>\n",
       "      <td>0.0</td>\n",
       "      <td>0.0</td>\n",
       "      <td>0.0</td>\n",
       "      <td>0.0</td>\n",
       "      <td>0.0</td>\n",
       "      <td>0.0</td>\n",
       "    </tr>\n",
       "    <tr>\n",
       "      <th>1</th>\n",
       "      <td>15.0</td>\n",
       "      <td>1.0</td>\n",
       "      <td>14.000000</td>\n",
       "      <td>1.0</td>\n",
       "      <td>0.0</td>\n",
       "      <td>0.0</td>\n",
       "      <td>0.0</td>\n",
       "      <td>0.0</td>\n",
       "      <td>0.0</td>\n",
       "      <td>0.0</td>\n",
       "      <td>...</td>\n",
       "      <td>0.0</td>\n",
       "      <td>0.0</td>\n",
       "      <td>0.0</td>\n",
       "      <td>0.0</td>\n",
       "      <td>0.0</td>\n",
       "      <td>0.0</td>\n",
       "      <td>0.0</td>\n",
       "      <td>0.0</td>\n",
       "      <td>0.0</td>\n",
       "      <td>0.0</td>\n",
       "    </tr>\n",
       "    <tr>\n",
       "      <th>2</th>\n",
       "      <td>34.0</td>\n",
       "      <td>1.0</td>\n",
       "      <td>17.089779</td>\n",
       "      <td>1.0</td>\n",
       "      <td>0.0</td>\n",
       "      <td>0.0</td>\n",
       "      <td>0.0</td>\n",
       "      <td>0.0</td>\n",
       "      <td>0.0</td>\n",
       "      <td>0.0</td>\n",
       "      <td>...</td>\n",
       "      <td>0.0</td>\n",
       "      <td>0.0</td>\n",
       "      <td>0.0</td>\n",
       "      <td>0.0</td>\n",
       "      <td>0.0</td>\n",
       "      <td>0.0</td>\n",
       "      <td>0.0</td>\n",
       "      <td>0.0</td>\n",
       "      <td>0.0</td>\n",
       "      <td>0.0</td>\n",
       "    </tr>\n",
       "    <tr>\n",
       "      <th>3</th>\n",
       "      <td>52.0</td>\n",
       "      <td>5.0</td>\n",
       "      <td>16.000000</td>\n",
       "      <td>4.0</td>\n",
       "      <td>1.0</td>\n",
       "      <td>37.0</td>\n",
       "      <td>37.0</td>\n",
       "      <td>1.0</td>\n",
       "      <td>3.0</td>\n",
       "      <td>0.0</td>\n",
       "      <td>...</td>\n",
       "      <td>0.0</td>\n",
       "      <td>0.0</td>\n",
       "      <td>0.0</td>\n",
       "      <td>0.0</td>\n",
       "      <td>0.0</td>\n",
       "      <td>1.0</td>\n",
       "      <td>0.0</td>\n",
       "      <td>1.0</td>\n",
       "      <td>0.0</td>\n",
       "      <td>0.0</td>\n",
       "    </tr>\n",
       "    <tr>\n",
       "      <th>4</th>\n",
       "      <td>46.0</td>\n",
       "      <td>3.0</td>\n",
       "      <td>21.000000</td>\n",
       "      <td>4.0</td>\n",
       "      <td>0.0</td>\n",
       "      <td>0.0</td>\n",
       "      <td>0.0</td>\n",
       "      <td>1.0</td>\n",
       "      <td>15.0</td>\n",
       "      <td>0.0</td>\n",
       "      <td>...</td>\n",
       "      <td>0.0</td>\n",
       "      <td>0.0</td>\n",
       "      <td>0.0</td>\n",
       "      <td>0.0</td>\n",
       "      <td>0.0</td>\n",
       "      <td>0.0</td>\n",
       "      <td>0.0</td>\n",
       "      <td>0.0</td>\n",
       "      <td>0.0</td>\n",
       "      <td>0.0</td>\n",
       "    </tr>\n",
       "  </tbody>\n",
       "</table>\n",
       "<p>5 rows × 29 columns</p>\n",
       "</div>"
      ],
      "text/plain": [
       "    Age  Number of sexual partners  First sexual intercourse  \\\n",
       "0  18.0                        4.0                 15.000000   \n",
       "1  15.0                        1.0                 14.000000   \n",
       "2  34.0                        1.0                 17.089779   \n",
       "3  52.0                        5.0                 16.000000   \n",
       "4  46.0                        3.0                 21.000000   \n",
       "\n",
       "   Num of pregnancies  Smokes  Smokes (years)  Smokes (packs/year)  \\\n",
       "0                 1.0     0.0             0.0                  0.0   \n",
       "1                 1.0     0.0             0.0                  0.0   \n",
       "2                 1.0     0.0             0.0                  0.0   \n",
       "3                 4.0     1.0            37.0                 37.0   \n",
       "4                 4.0     0.0             0.0                  0.0   \n",
       "\n",
       "   Hormonal Contraceptives  Hormonal Contraceptives (years)  IUD  ...  \\\n",
       "0                      0.0                              0.0  0.0  ...   \n",
       "1                      0.0                              0.0  0.0  ...   \n",
       "2                      0.0                              0.0  0.0  ...   \n",
       "3                      1.0                              3.0  0.0  ...   \n",
       "4                      1.0                             15.0  0.0  ...   \n",
       "\n",
       "   STDs:molluscum contagiosum  STDs:HIV  STDs:Hepatitis B  STDs:HPV  \\\n",
       "0                         0.0       0.0               0.0       0.0   \n",
       "1                         0.0       0.0               0.0       0.0   \n",
       "2                         0.0       0.0               0.0       0.0   \n",
       "3                         0.0       0.0               0.0       0.0   \n",
       "4                         0.0       0.0               0.0       0.0   \n",
       "\n",
       "   STDs: Number of diagnosis  Dx:Cancer  Dx:CIN  Dx:HPV   Dx    0  \n",
       "0                        0.0        0.0     0.0     0.0  0.0  0.0  \n",
       "1                        0.0        0.0     0.0     0.0  0.0  0.0  \n",
       "2                        0.0        0.0     0.0     0.0  0.0  0.0  \n",
       "3                        0.0        1.0     0.0     1.0  0.0  0.0  \n",
       "4                        0.0        0.0     0.0     0.0  0.0  0.0  \n",
       "\n",
       "[5 rows x 29 columns]"
      ]
     },
     "execution_count": 7,
     "metadata": {},
     "output_type": "execute_result"
    }
   ],
   "source": [
    "x, y = clean_data(ds)\n",
    "\n",
    "df = pd.concat([x, pd.DataFrame(y)], axis = 1)\n",
    "df.head()"
   ]
  },
  {
   "cell_type": "code",
   "execution_count": 8,
   "metadata": {
    "collapsed": true,
    "gather": {
     "logged": 1610803714610
    },
    "jupyter": {
     "outputs_hidden": false,
     "source_hidden": false
    },
    "nteract": {
     "transient": {
      "deleting": false
     }
    }
   },
   "outputs": [],
   "source": [
    "\n",
    "\n",
    "df_train, df_test = train_test_split(df, test_size=0.25)\n",
    "df_train.to_csv(\"training/training_dataset.csv\")"
   ]
  },
  {
   "cell_type": "code",
   "execution_count": 9,
   "metadata": {
    "collapsed": true,
    "gather": {
     "logged": 1610803730314
    },
    "jupyter": {
     "outputs_hidden": false,
     "source_hidden": false
    },
    "nteract": {
     "transient": {
      "deleting": false
     }
    }
   },
   "outputs": [],
   "source": [
    "\n",
    "outname='validation_dataset.csv'\n",
    "outdir='validation/'\n",
    "if not os.path.exists(outdir):\n",
    "    os.mkdir(outdir)\n",
    "\n",
    "fullpath=os.path.join(outdir,outname)\n",
    "df_test.to_csv(fullpath)"
   ]
  },
  {
   "cell_type": "code",
   "execution_count": 10,
   "metadata": {
    "collapsed": true,
    "gather": {
     "logged": 1610803746327
    },
    "jupyter": {
     "outputs_hidden": false,
     "source_hidden": false
    },
    "nteract": {
     "transient": {
      "deleting": false
     }
    }
   },
   "outputs": [],
   "source": [
    "experiment = Experiment(ws, \"auto_ml_exp\")\n",
    "datastore = ws.get_default_datastore()"
   ]
  },
  {
   "cell_type": "code",
   "execution_count": 11,
   "metadata": {
    "collapsed": true,
    "gather": {
     "logged": 1610803759949
    },
    "jupyter": {
     "outputs_hidden": false,
     "source_hidden": false
    },
    "nteract": {
     "transient": {
      "deleting": false
     }
    }
   },
   "outputs": [
    {
     "name": "stdout",
     "output_type": "stream",
     "text": [
      "Uploading an estimated of 1 files\n",
      "Target already exists. Skipping upload for data/training_dataset.csv\n",
      "Uploaded 0 files\n",
      "Uploading an estimated of 1 files\n",
      "Uploading validation/validation_dataset.csv\n",
      "Uploaded validation/validation_dataset.csv, 1 files out of an estimated total of 1\n",
      "Uploaded 1 files\n"
     ]
    },
    {
     "data": {
      "text/plain": [
       "$AZUREML_DATAREFERENCE_3ef96ca698234d23957d18d268c4e226"
      ]
     },
     "execution_count": 11,
     "metadata": {},
     "output_type": "execute_result"
    }
   ],
   "source": [
    "datastore.upload(src_dir = \"training/\", target_path = \"data/\")\n",
    "datastore.upload(src_dir = \"validation/\", target_path = \"data/\")"
   ]
  },
  {
   "cell_type": "code",
   "execution_count": 12,
   "metadata": {
    "collapsed": true,
    "gather": {
     "logged": 1610803783303
    },
    "jupyter": {
     "outputs_hidden": false,
     "source_hidden": false
    },
    "nteract": {
     "transient": {
      "deleting": false
     }
    }
   },
   "outputs": [],
   "source": [
    "training_data = TabularDatasetFactory.from_delimited_files(path = [(datastore, (\"data/training_dataset.csv\"))])\n",
    "validation_data = TabularDatasetFactory.from_delimited_files(path = [(datastore, (\"data/validation_dataset.csv\"))])"
   ]
  },
  {
   "cell_type": "markdown",
   "metadata": {},
   "source": [
    "## AutoML Configuration\n",
    "\n",
    "TODO: Explain why you chose the automl settings and cofiguration you used below."
   ]
  },
  {
   "cell_type": "code",
   "execution_count": 14,
   "metadata": {
    "collapsed": true,
    "gather": {
     "logged": 1610803941342
    },
    "jupyter": {
     "outputs_hidden": false,
     "source_hidden": false
    },
    "nteract": {
     "transient": {
      "deleting": false
     }
    }
   },
   "outputs": [
    {
     "name": "stdout",
     "output_type": "stream",
     "text": [
      "Found existing cluster, use it.\n",
      "Succeeded\n",
      "AmlCompute wait for completion finished\n",
      "\n",
      "Minimum number of nodes requested have been provisioned\n"
     ]
    }
   ],
   "source": [
    "\n",
    "\n",
    "# TODO: Create compute cluster\n",
    "# Use vm_size = \"Standard_D2_V2\" in your provisioning configuration.\n",
    "# max_nodes should be no greater than 4.\n",
    "\n",
    "### YOUR CODE HERE ###\n",
    "\n",
    "# Choose a name for your CPU cluster\n",
    "cpu_cluster_name = \"cpucluster\"\n",
    "\n",
    "# Verify that cluster does not exist already\n",
    "try:\n",
    "    cpu_cluster = ComputeTarget(workspace=ws, name=cpu_cluster_name)\n",
    "    print('Found existing cluster, use it.')\n",
    "except ComputeTargetException:\n",
    "    compute_config = AmlCompute.provisioning_configuration(vm_size='STANDARD_D2_V2',\n",
    "                                                           max_nodes=4)\n",
    "    cpu_cluster = ComputeTarget.create(ws, cpu_cluster_name, compute_config)\n",
    "\n",
    "cpu_cluster.wait_for_completion(show_output=True)"
   ]
  },
  {
   "cell_type": "code",
   "execution_count": 19,
   "metadata": {
    "gather": {
     "logged": 1610804051032
    },
    "jupyter": {
     "outputs_hidden": false,
     "source_hidden": false
    },
    "nteract": {
     "transient": {
      "deleting": false
     }
    }
   },
   "outputs": [],
   "source": [
    "\n",
    "\n",
    "# TODO: Put your automl settings here\n",
    "automl_settings = {\n",
    "    \"experiment_timeout_minutes\" :30,\n",
    "    \"max_concurrent_iterations\": 4,\n",
    "    \"n_cross_validations\": 3,\n",
    "    \"primary_metric\": 'accuracy',\n",
    "}\n",
    "\n",
    "# TODO: Put your automl config here\n",
    "automl_config = AutoMLConfig(\n",
    "    experiment_timeout_minutes=30,\n",
    "    n_cross_validations=3,\n",
    "    task=\"classification\",\n",
    "    primary_metric=\"accuracy\",\n",
    "    compute_target=cpu_cluster,\n",
    "    training_data=training_data,\n",
    "    label_column_name=\"Schiller\",\n",
    "    max_cores_per_iteration=-1\n",
    "    )"
   ]
  },
  {
   "cell_type": "code",
   "execution_count": 20,
   "metadata": {
    "gather": {
     "logged": 1610806638899
    },
    "jupyter": {
     "outputs_hidden": false,
     "source_hidden": false
    },
    "nteract": {
     "transient": {
      "deleting": false
     }
    }
   },
   "outputs": [
    {
     "name": "stdout",
     "output_type": "stream",
     "text": [
      "Running on remote.\n",
      "No run_configuration provided, running on cpucluster with default configuration\n",
      "Running on remote compute: cpucluster\n",
      "Parent Run ID: AutoML_feaca0fa-04ae-4c0b-97e6-88c8961212d8\n",
      "\n",
      "Current status: FeaturesGeneration. Generating features for the dataset.\n",
      "Current status: DatasetFeaturization. Beginning to fit featurizers and featurize the dataset.\n",
      "Current status: DatasetCrossValidationSplit. Generating individually featurized CV splits.\n",
      "Current status: ModelSelection. Beginning model selection.\n",
      "\n",
      "****************************************************************************************************\n",
      "DATA GUARDRAILS: \n",
      "\n",
      "TYPE:         Class balancing detection\n",
      "STATUS:       ALERTED\n",
      "DESCRIPTION:  To decrease model bias, please cancel the current run and fix balancing problem.\n",
      "              Learn more about imbalanced data: https://aka.ms/AutomatedMLImbalancedData\n",
      "DETAILS:      Imbalanced data can lead to a falsely perceived positive effect of a model's accuracy because the input data has bias towards one class.\n",
      "+---------------------------------+---------------------------------+--------------------------------------+\n",
      "|Size of the smallest class       |Name/Label of the smallest class |Number of samples in the training data|\n",
      "+=================================+=================================+======================================+\n",
      "|54                               |1                                |643                                   |\n",
      "+---------------------------------+---------------------------------+--------------------------------------+\n",
      "\n",
      "****************************************************************************************************\n",
      "\n",
      "TYPE:         Missing feature values imputation\n",
      "STATUS:       PASSED\n",
      "DESCRIPTION:  No feature missing values were detected in the training data.\n",
      "              Learn more about missing value imputation: https://aka.ms/AutomatedMLFeaturization\n",
      "\n",
      "****************************************************************************************************\n",
      "\n",
      "TYPE:         High cardinality feature detection\n",
      "STATUS:       DONE\n",
      "DESCRIPTION:  High cardinality features were detected in your inputs and handled.\n",
      "              Learn more about high cardinality feature handling: https://aka.ms/AutomatedMLFeaturization\n",
      "DETAILS:      High cardinality features refer to columns that contain a large percentage of unique values.\n",
      "+---------------------------------+---------------------------------+\n",
      "|Column name                      |Column Content Type              |\n",
      "+=================================+=================================+\n",
      "|Smokes (packs/year)              |categorical_hash                 |\n",
      "|Hormonal Contraceptives (years)  |categorical_hash                 |\n",
      "+---------------------------------+---------------------------------+\n",
      "\n",
      "****************************************************************************************************\n",
      "\n",
      "****************************************************************************************************\n",
      "ITERATION: The iteration being evaluated.\n",
      "PIPELINE: A summary description of the pipeline being evaluated.\n",
      "DURATION: Time taken for the current iteration.\n",
      "METRIC: The result of computing score on the fitted pipeline.\n",
      "BEST: The best observed score thus far.\n",
      "****************************************************************************************************\n",
      "\n",
      " ITERATION   PIPELINE                                       DURATION      METRIC      BEST\n",
      "         0   MaxAbsScaler LightGBM                          0:00:45       0.9533    0.9533\n",
      "         1   MaxAbsScaler XGBoostClassifier                 0:00:46       0.9704    0.9704\n",
      "         2   MaxAbsScaler RandomForest                      0:00:46       0.9378    0.9704\n",
      "         3   MaxAbsScaler RandomForest                      0:00:38       0.9160    0.9704\n",
      "         4   MaxAbsScaler RandomForest                      0:00:42       0.8708    0.9704\n",
      "         5   MaxAbsScaler RandomForest                      0:00:50       0.9159    0.9704\n",
      "         6   SparseNormalizer XGBoostClassifier             0:00:47       0.9658    0.9704\n",
      "         7   MaxAbsScaler RandomForest                      0:00:49       0.9160    0.9704\n",
      "         8   SparseNormalizer LightGBM                      0:00:40       0.9284    0.9704\n",
      "         9   MaxAbsScaler LogisticRegression                0:00:48       0.9549    0.9704\n",
      "        10   MaxAbsScaler RandomForest                      0:00:52       0.9393    0.9704\n",
      "        11   SparseNormalizer XGBoostClassifier             0:00:46       0.9533    0.9704\n",
      "        12   MaxAbsScaler LightGBM                          0:00:43       0.9160    0.9704\n",
      "        13   SparseNormalizer XGBoostClassifier             0:00:46       0.9611    0.9704\n",
      "        14   SparseNormalizer XGBoostClassifier             0:00:58       0.9627    0.9704\n",
      "        15   StandardScalerWrapper LightGBM                 0:00:47       0.9160    0.9704\n",
      "        16   MaxAbsScaler ExtremeRandomTrees                0:00:50       0.9300    0.9704\n",
      "        17   MaxAbsScaler LightGBM                          0:00:46       0.9611    0.9704\n",
      "        18   MaxAbsScaler LogisticRegression                0:00:45       0.9533    0.9704\n",
      "        19   StandardScalerWrapper ExtremeRandomTrees       0:00:59       0.9440    0.9704\n",
      "        20   StandardScalerWrapper XGBoostClassifier        0:00:39       0.9533    0.9704\n",
      "        21   SparseNormalizer XGBoostClassifier             0:00:52       0.9642    0.9704\n",
      "        22   StandardScalerWrapper XGBoostClassifier        0:00:52       0.9471    0.9704\n",
      "        23   StandardScalerWrapper XGBoostClassifier        0:00:48       0.9611    0.9704\n",
      "        24   SparseNormalizer XGBoostClassifier             0:00:46       0.9611    0.9704\n",
      "        25   SparseNormalizer XGBoostClassifier             0:00:39       0.9160    0.9704\n",
      "        26   StandardScalerWrapper XGBoostClassifier        0:00:49       0.9611    0.9704\n",
      "        27   MaxAbsScaler LogisticRegression                0:00:46       0.9564    0.9704\n",
      "        28   StandardScalerWrapper XGBoostClassifier        0:00:51       0.9689    0.9704\n",
      "        29   SparseNormalizer XGBoostClassifier             0:00:49       0.9564    0.9704\n",
      "        30    VotingEnsemble                                0:01:08       0.9736    0.9736\n",
      "        31    StackEnsemble                                 0:01:17       0.9642    0.9736\n"
     ]
    }
   ],
   "source": [
    "# TODO: Submit your experiment\n",
    "remote_run = experiment.submit(config = automl_config, show_output = True)"
   ]
  },
  {
   "cell_type": "markdown",
   "metadata": {},
   "source": [
    "## Run Details\n",
    "\n",
    "OPTIONAL: Write about the different models trained and their performance. Why do you think some models did better than others?\n",
    "\n",
    "TODO: In the cell below, use the `RunDetails` widget to show the different experiments."
   ]
  },
  {
   "cell_type": "code",
   "execution_count": 23,
   "metadata": {
    "gather": {
     "logged": 1610809267657
    },
    "jupyter": {
     "outputs_hidden": false,
     "source_hidden": false
    },
    "nteract": {
     "transient": {
      "deleting": false
     }
    }
   },
   "outputs": [
    {
     "data": {
      "application/vnd.jupyter.widget-view+json": {
       "model_id": "b43c87e57dde450884e63f269a974be0",
       "version_major": 2,
       "version_minor": 0
      },
      "text/plain": [
       "_AutoMLWidget(widget_settings={'childWidgetDisplay': 'popup', 'send_telemetry': False, 'log_level': 'INFO', 's…"
      ]
     },
     "metadata": {},
     "output_type": "display_data"
    },
    {
     "data": {
      "application/aml.mini.widget.v1": "{\"status\": \"Completed\", \"workbench_run_details_uri\": \"https://ml.azure.com/experiments/auto_ml_exp/runs/AutoML_feaca0fa-04ae-4c0b-97e6-88c8961212d8?wsid=/subscriptions/f5091c60-1c3c-430f-8d81-d802f6bf2414/resourcegroups/aml-quickstarts-134869/workspaces/quick-starts-ws-134869\", \"run_id\": \"AutoML_feaca0fa-04ae-4c0b-97e6-88c8961212d8\", \"run_properties\": {\"run_id\": \"AutoML_feaca0fa-04ae-4c0b-97e6-88c8961212d8\", \"created_utc\": \"2021-01-16T13:34:13.95245Z\", \"properties\": {\"num_iterations\": \"1000\", \"training_type\": \"TrainFull\", \"acquisition_function\": \"EI\", \"primary_metric\": \"accuracy\", \"train_split\": \"0\", \"acquisition_parameter\": \"0\", \"num_cross_validation\": \"3\", \"target\": \"cpucluster\", \"AMLSettingsJsonString\": \"{\\\"path\\\":null,\\\"name\\\":\\\"auto_ml_exp\\\",\\\"subscription_id\\\":\\\"f5091c60-1c3c-430f-8d81-d802f6bf2414\\\",\\\"resource_group\\\":\\\"aml-quickstarts-134869\\\",\\\"workspace_name\\\":\\\"quick-starts-ws-134869\\\",\\\"region\\\":\\\"southcentralus\\\",\\\"compute_target\\\":\\\"cpucluster\\\",\\\"spark_service\\\":null,\\\"azure_service\\\":\\\"remote\\\",\\\"many_models\\\":false,\\\"pipeline_fetch_max_batch_size\\\":1,\\\"iterations\\\":1000,\\\"primary_metric\\\":\\\"accuracy\\\",\\\"task_type\\\":\\\"classification\\\",\\\"data_script\\\":null,\\\"validation_size\\\":0.0,\\\"n_cross_validations\\\":3,\\\"y_min\\\":null,\\\"y_max\\\":null,\\\"num_classes\\\":null,\\\"featurization\\\":\\\"auto\\\",\\\"_ignore_package_version_incompatibilities\\\":false,\\\"is_timeseries\\\":false,\\\"max_cores_per_iteration\\\":-1,\\\"max_concurrent_iterations\\\":1,\\\"iteration_timeout_minutes\\\":null,\\\"mem_in_mb\\\":null,\\\"enforce_time_on_windows\\\":false,\\\"experiment_timeout_minutes\\\":30,\\\"experiment_exit_score\\\":null,\\\"whitelist_models\\\":null,\\\"blacklist_algos\\\":[\\\"TensorFlowLinearClassifier\\\",\\\"TensorFlowDNN\\\"],\\\"supported_models\\\":[\\\"KNN\\\",\\\"MultinomialNaiveBayes\\\",\\\"BernoulliNaiveBayes\\\",\\\"XGBoostClassifier\\\",\\\"ExtremeRandomTrees\\\",\\\"TensorFlowDNN\\\",\\\"TensorFlowLinearClassifier\\\",\\\"DecisionTree\\\",\\\"LogisticRegression\\\",\\\"AveragedPerceptronClassifier\\\",\\\"GradientBoosting\\\",\\\"SGD\\\",\\\"LinearSVM\\\",\\\"LightGBM\\\",\\\"SVM\\\",\\\"RandomForest\\\"],\\\"auto_blacklist\\\":true,\\\"blacklist_samples_reached\\\":false,\\\"exclude_nan_labels\\\":true,\\\"verbosity\\\":20,\\\"_debug_log\\\":\\\"azureml_automl.log\\\",\\\"show_warnings\\\":false,\\\"model_explainability\\\":true,\\\"service_url\\\":null,\\\"sdk_url\\\":null,\\\"sdk_packages\\\":null,\\\"enable_onnx_compatible_models\\\":false,\\\"enable_split_onnx_featurizer_estimator_models\\\":false,\\\"vm_type\\\":\\\"STANDARD_D2_V2\\\",\\\"telemetry_verbosity\\\":20,\\\"send_telemetry\\\":true,\\\"enable_dnn\\\":false,\\\"scenario\\\":\\\"SDK-1.13.0\\\",\\\"environment_label\\\":null,\\\"force_text_dnn\\\":false,\\\"enable_feature_sweeping\\\":true,\\\"enable_early_stopping\\\":false,\\\"early_stopping_n_iters\\\":10,\\\"metrics\\\":null,\\\"enable_ensembling\\\":true,\\\"enable_stack_ensembling\\\":true,\\\"ensemble_iterations\\\":15,\\\"enable_tf\\\":false,\\\"enable_subsampling\\\":null,\\\"subsample_seed\\\":null,\\\"enable_nimbusml\\\":false,\\\"enable_streaming\\\":false,\\\"force_streaming\\\":false,\\\"track_child_runs\\\":true,\\\"allowed_private_models\\\":[],\\\"label_column_name\\\":\\\"Schiller\\\",\\\"weight_column_name\\\":null,\\\"cv_split_column_names\\\":null,\\\"enable_local_managed\\\":false,\\\"_local_managed_run_id\\\":null,\\\"cost_mode\\\":1,\\\"lag_length\\\":0,\\\"metric_operation\\\":\\\"maximize\\\",\\\"preprocess\\\":true}\", \"DataPrepJsonString\": \"{\\\\\\\"training_data\\\\\\\": \\\\\\\"{\\\\\\\\\\\\\\\"blocks\\\\\\\\\\\\\\\": [{\\\\\\\\\\\\\\\"id\\\\\\\\\\\\\\\": \\\\\\\\\\\\\\\"04e64c02-8825-4b65-8d78-20c5d87dfc1e\\\\\\\\\\\\\\\", \\\\\\\\\\\\\\\"type\\\\\\\\\\\\\\\": \\\\\\\\\\\\\\\"Microsoft.DPrep.GetDatastoreFilesBlock\\\\\\\\\\\\\\\", \\\\\\\\\\\\\\\"arguments\\\\\\\\\\\\\\\": {\\\\\\\\\\\\\\\"datastores\\\\\\\\\\\\\\\": [{\\\\\\\\\\\\\\\"datastoreName\\\\\\\\\\\\\\\": \\\\\\\\\\\\\\\"workspaceblobstore\\\\\\\\\\\\\\\", \\\\\\\\\\\\\\\"path\\\\\\\\\\\\\\\": \\\\\\\\\\\\\\\"data/training_dataset.csv\\\\\\\\\\\\\\\", \\\\\\\\\\\\\\\"resourceGroup\\\\\\\\\\\\\\\": \\\\\\\\\\\\\\\"aml-quickstarts-134869\\\\\\\\\\\\\\\", \\\\\\\\\\\\\\\"subscription\\\\\\\\\\\\\\\": \\\\\\\\\\\\\\\"f5091c60-1c3c-430f-8d81-d802f6bf2414\\\\\\\\\\\\\\\", \\\\\\\\\\\\\\\"workspaceName\\\\\\\\\\\\\\\": \\\\\\\\\\\\\\\"quick-starts-ws-134869\\\\\\\\\\\\\\\"}]}, \\\\\\\\\\\\\\\"localData\\\\\\\\\\\\\\\": {}, \\\\\\\\\\\\\\\"isEnabled\\\\\\\\\\\\\\\": true, \\\\\\\\\\\\\\\"name\\\\\\\\\\\\\\\": null, \\\\\\\\\\\\\\\"annotation\\\\\\\\\\\\\\\": null}, {\\\\\\\\\\\\\\\"id\\\\\\\\\\\\\\\": \\\\\\\\\\\\\\\"8144f3c6-5ccd-439b-a148-c7e8d20f571b\\\\\\\\\\\\\\\", \\\\\\\\\\\\\\\"type\\\\\\\\\\\\\\\": \\\\\\\\\\\\\\\"Microsoft.DPrep.ParseDelimitedBlock\\\\\\\\\\\\\\\", \\\\\\\\\\\\\\\"arguments\\\\\\\\\\\\\\\": {\\\\\\\\\\\\\\\"columnHeadersMode\\\\\\\\\\\\\\\": 3, \\\\\\\\\\\\\\\"fileEncoding\\\\\\\\\\\\\\\": 0, \\\\\\\\\\\\\\\"handleQuotedLineBreaks\\\\\\\\\\\\\\\": false, \\\\\\\\\\\\\\\"preview\\\\\\\\\\\\\\\": false, \\\\\\\\\\\\\\\"separator\\\\\\\\\\\\\\\": \\\\\\\\\\\\\\\",\\\\\\\\\\\\\\\", \\\\\\\\\\\\\\\"skipRows\\\\\\\\\\\\\\\": 0, \\\\\\\\\\\\\\\"skipRowsMode\\\\\\\\\\\\\\\": 0}, \\\\\\\\\\\\\\\"localData\\\\\\\\\\\\\\\": {}, \\\\\\\\\\\\\\\"isEnabled\\\\\\\\\\\\\\\": true, \\\\\\\\\\\\\\\"name\\\\\\\\\\\\\\\": null, \\\\\\\\\\\\\\\"annotation\\\\\\\\\\\\\\\": null}, {\\\\\\\\\\\\\\\"id\\\\\\\\\\\\\\\": \\\\\\\\\\\\\\\"cdf7bd80-4334-45fb-a577-832e88207234\\\\\\\\\\\\\\\", \\\\\\\\\\\\\\\"type\\\\\\\\\\\\\\\": \\\\\\\\\\\\\\\"Microsoft.DPrep.DropColumnsBlock\\\\\\\\\\\\\\\", \\\\\\\\\\\\\\\"arguments\\\\\\\\\\\\\\\": {\\\\\\\\\\\\\\\"columns\\\\\\\\\\\\\\\": {\\\\\\\\\\\\\\\"type\\\\\\\\\\\\\\\": 0, \\\\\\\\\\\\\\\"details\\\\\\\\\\\\\\\": {\\\\\\\\\\\\\\\"selectedColumns\\\\\\\\\\\\\\\": [\\\\\\\\\\\\\\\"Path\\\\\\\\\\\\\\\"]}}}, \\\\\\\\\\\\\\\"localData\\\\\\\\\\\\\\\": {}, \\\\\\\\\\\\\\\"isEnabled\\\\\\\\\\\\\\\": true, \\\\\\\\\\\\\\\"name\\\\\\\\\\\\\\\": null, \\\\\\\\\\\\\\\"annotation\\\\\\\\\\\\\\\": null}, {\\\\\\\\\\\\\\\"id\\\\\\\\\\\\\\\": \\\\\\\\\\\\\\\"dfb04e02-c4f3-40a8-9df1-eda98f883f4a\\\\\\\\\\\\\\\", \\\\\\\\\\\\\\\"type\\\\\\\\\\\\\\\": \\\\\\\\\\\\\\\"Microsoft.DPrep.SetColumnTypesBlock\\\\\\\\\\\\\\\", \\\\\\\\\\\\\\\"arguments\\\\\\\\\\\\\\\": {\\\\\\\\\\\\\\\"columnConversion\\\\\\\\\\\\\\\": [{\\\\\\\\\\\\\\\"column\\\\\\\\\\\\\\\": {\\\\\\\\\\\\\\\"type\\\\\\\\\\\\\\\": 2, \\\\\\\\\\\\\\\"details\\\\\\\\\\\\\\\": {\\\\\\\\\\\\\\\"selectedColumn\\\\\\\\\\\\\\\": \\\\\\\\\\\\\\\"Column1\\\\\\\\\\\\\\\"}}, \\\\\\\\\\\\\\\"typeProperty\\\\\\\\\\\\\\\": 2}, {\\\\\\\\\\\\\\\"column\\\\\\\\\\\\\\\": {\\\\\\\\\\\\\\\"type\\\\\\\\\\\\\\\": 2, \\\\\\\\\\\\\\\"details\\\\\\\\\\\\\\\": {\\\\\\\\\\\\\\\"selectedColumn\\\\\\\\\\\\\\\": \\\\\\\\\\\\\\\"Age\\\\\\\\\\\\\\\"}}, \\\\\\\\\\\\\\\"typeProperty\\\\\\\\\\\\\\\": 2}, {\\\\\\\\\\\\\\\"column\\\\\\\\\\\\\\\": {\\\\\\\\\\\\\\\"type\\\\\\\\\\\\\\\": 2, \\\\\\\\\\\\\\\"details\\\\\\\\\\\\\\\": {\\\\\\\\\\\\\\\"selectedColumn\\\\\\\\\\\\\\\": \\\\\\\\\\\\\\\"Number of sexual partners\\\\\\\\\\\\\\\"}}, \\\\\\\\\\\\\\\"typeProperty\\\\\\\\\\\\\\\": 0}, {\\\\\\\\\\\\\\\"column\\\\\\\\\\\\\\\": {\\\\\\\\\\\\\\\"type\\\\\\\\\\\\\\\": 2, \\\\\\\\\\\\\\\"details\\\\\\\\\\\\\\\": {\\\\\\\\\\\\\\\"selectedColumn\\\\\\\\\\\\\\\": \\\\\\\\\\\\\\\"First sexual intercourse\\\\\\\\\\\\\\\"}}, \\\\\\\\\\\\\\\"typeProperty\\\\\\\\\\\\\\\": 0}, {\\\\\\\\\\\\\\\"column\\\\\\\\\\\\\\\": {\\\\\\\\\\\\\\\"type\\\\\\\\\\\\\\\": 2, \\\\\\\\\\\\\\\"details\\\\\\\\\\\\\\\": {\\\\\\\\\\\\\\\"selectedColumn\\\\\\\\\\\\\\\": \\\\\\\\\\\\\\\"Num of pregnancies\\\\\\\\\\\\\\\"}}, \\\\\\\\\\\\\\\"typeProperty\\\\\\\\\\\\\\\": 0}, {\\\\\\\\\\\\\\\"column\\\\\\\\\\\\\\\": {\\\\\\\\\\\\\\\"type\\\\\\\\\\\\\\\": 2, \\\\\\\\\\\\\\\"details\\\\\\\\\\\\\\\": {\\\\\\\\\\\\\\\"selectedColumn\\\\\\\\\\\\\\\": \\\\\\\\\\\\\\\"Smokes\\\\\\\\\\\\\\\"}}, \\\\\\\\\\\\\\\"typeProperty\\\\\\\\\\\\\\\": 0}, {\\\\\\\\\\\\\\\"column\\\\\\\\\\\\\\\": {\\\\\\\\\\\\\\\"type\\\\\\\\\\\\\\\": 2, \\\\\\\\\\\\\\\"details\\\\\\\\\\\\\\\": {\\\\\\\\\\\\\\\"selectedColumn\\\\\\\\\\\\\\\": \\\\\\\\\\\\\\\"Smokes (years)\\\\\\\\\\\\\\\"}}, \\\\\\\\\\\\\\\"typeProperty\\\\\\\\\\\\\\\": 0}, {\\\\\\\\\\\\\\\"column\\\\\\\\\\\\\\\": {\\\\\\\\\\\\\\\"type\\\\\\\\\\\\\\\": 2, \\\\\\\\\\\\\\\"details\\\\\\\\\\\\\\\": {\\\\\\\\\\\\\\\"selectedColumn\\\\\\\\\\\\\\\": \\\\\\\\\\\\\\\"Smokes (packs/year)\\\\\\\\\\\\\\\"}}, \\\\\\\\\\\\\\\"typeProperty\\\\\\\\\\\\\\\": 0}, {\\\\\\\\\\\\\\\"column\\\\\\\\\\\\\\\": {\\\\\\\\\\\\\\\"type\\\\\\\\\\\\\\\": 2, \\\\\\\\\\\\\\\"details\\\\\\\\\\\\\\\": {\\\\\\\\\\\\\\\"selectedColumn\\\\\\\\\\\\\\\": \\\\\\\\\\\\\\\"Hormonal Contraceptives\\\\\\\\\\\\\\\"}}, \\\\\\\\\\\\\\\"typeProperty\\\\\\\\\\\\\\\": 0}, {\\\\\\\\\\\\\\\"column\\\\\\\\\\\\\\\": {\\\\\\\\\\\\\\\"type\\\\\\\\\\\\\\\": 2, \\\\\\\\\\\\\\\"details\\\\\\\\\\\\\\\": {\\\\\\\\\\\\\\\"selectedColumn\\\\\\\\\\\\\\\": \\\\\\\\\\\\\\\"Hormonal Contraceptives (years)\\\\\\\\\\\\\\\"}}, \\\\\\\\\\\\\\\"typeProperty\\\\\\\\\\\\\\\": 0}, {\\\\\\\\\\\\\\\"column\\\\\\\\\\\\\\\": {\\\\\\\\\\\\\\\"type\\\\\\\\\\\\\\\": 2, \\\\\\\\\\\\\\\"details\\\\\\\\\\\\\\\": {\\\\\\\\\\\\\\\"selectedColumn\\\\\\\\\\\\\\\": \\\\\\\\\\\\\\\"IUD\\\\\\\\\\\\\\\"}}, \\\\\\\\\\\\\\\"typeProperty\\\\\\\\\\\\\\\": 0}, {\\\\\\\\\\\\\\\"column\\\\\\\\\\\\\\\": {\\\\\\\\\\\\\\\"type\\\\\\\\\\\\\\\": 2, \\\\\\\\\\\\\\\"details\\\\\\\\\\\\\\\": {\\\\\\\\\\\\\\\"selectedColumn\\\\\\\\\\\\\\\": \\\\\\\\\\\\\\\"IUD (years)\\\\\\\\\\\\\\\"}}, \\\\\\\\\\\\\\\"typeProperty\\\\\\\\\\\\\\\": 0}, {\\\\\\\\\\\\\\\"column\\\\\\\\\\\\\\\": {\\\\\\\\\\\\\\\"type\\\\\\\\\\\\\\\": 2, \\\\\\\\\\\\\\\"details\\\\\\\\\\\\\\\": {\\\\\\\\\\\\\\\"selectedColumn\\\\\\\\\\\\\\\": \\\\\\\\\\\\\\\"STDs\\\\\\\\\\\\\\\"}}, \\\\\\\\\\\\\\\"typeProperty\\\\\\\\\\\\\\\": 0}, {\\\\\\\\\\\\\\\"column\\\\\\\\\\\\\\\": {\\\\\\\\\\\\\\\"type\\\\\\\\\\\\\\\": 2, \\\\\\\\\\\\\\\"details\\\\\\\\\\\\\\\": {\\\\\\\\\\\\\\\"selectedColumn\\\\\\\\\\\\\\\": \\\\\\\\\\\\\\\"STDs (number)\\\\\\\\\\\\\\\"}}, \\\\\\\\\\\\\\\"typeProperty\\\\\\\\\\\\\\\": 0}, {\\\\\\\\\\\\\\\"column\\\\\\\\\\\\\\\": {\\\\\\\\\\\\\\\"type\\\\\\\\\\\\\\\": 2, \\\\\\\\\\\\\\\"details\\\\\\\\\\\\\\\": {\\\\\\\\\\\\\\\"selectedColumn\\\\\\\\\\\\\\\": \\\\\\\\\\\\\\\"STDs:condylomatosis\\\\\\\\\\\\\\\"}}, \\\\\\\\\\\\\\\"typeProperty\\\\\\\\\\\\\\\": 0}, {\\\\\\\\\\\\\\\"column\\\\\\\\\\\\\\\": {\\\\\\\\\\\\\\\"type\\\\\\\\\\\\\\\": 2, \\\\\\\\\\\\\\\"details\\\\\\\\\\\\\\\": {\\\\\\\\\\\\\\\"selectedColumn\\\\\\\\\\\\\\\": \\\\\\\\\\\\\\\"STDs:cervical condylomatosis\\\\\\\\\\\\\\\"}}, \\\\\\\\\\\\\\\"typeProperty\\\\\\\\\\\\\\\": 0}, {\\\\\\\\\\\\\\\"column\\\\\\\\\\\\\\\": {\\\\\\\\\\\\\\\"type\\\\\\\\\\\\\\\": 2, \\\\\\\\\\\\\\\"details\\\\\\\\\\\\\\\": {\\\\\\\\\\\\\\\"selectedColumn\\\\\\\\\\\\\\\": \\\\\\\\\\\\\\\"STDs:vaginal condylomatosis\\\\\\\\\\\\\\\"}}, \\\\\\\\\\\\\\\"typeProperty\\\\\\\\\\\\\\\": 0}, {\\\\\\\\\\\\\\\"column\\\\\\\\\\\\\\\": {\\\\\\\\\\\\\\\"type\\\\\\\\\\\\\\\": 2, \\\\\\\\\\\\\\\"details\\\\\\\\\\\\\\\": {\\\\\\\\\\\\\\\"selectedColumn\\\\\\\\\\\\\\\": \\\\\\\\\\\\\\\"STDs:vulvo-perineal condylomatosis\\\\\\\\\\\\\\\"}}, \\\\\\\\\\\\\\\"typeProperty\\\\\\\\\\\\\\\": 0}, {\\\\\\\\\\\\\\\"column\\\\\\\\\\\\\\\": {\\\\\\\\\\\\\\\"type\\\\\\\\\\\\\\\": 2, \\\\\\\\\\\\\\\"details\\\\\\\\\\\\\\\": {\\\\\\\\\\\\\\\"selectedColumn\\\\\\\\\\\\\\\": \\\\\\\\\\\\\\\"STDs:syphilis\\\\\\\\\\\\\\\"}}, \\\\\\\\\\\\\\\"typeProperty\\\\\\\\\\\\\\\": 0}, {\\\\\\\\\\\\\\\"column\\\\\\\\\\\\\\\": {\\\\\\\\\\\\\\\"type\\\\\\\\\\\\\\\": 2, \\\\\\\\\\\\\\\"details\\\\\\\\\\\\\\\": {\\\\\\\\\\\\\\\"selectedColumn\\\\\\\\\\\\\\\": \\\\\\\\\\\\\\\"STDs:pelvic inflammatory disease\\\\\\\\\\\\\\\"}}, \\\\\\\\\\\\\\\"typeProperty\\\\\\\\\\\\\\\": 0}, {\\\\\\\\\\\\\\\"column\\\\\\\\\\\\\\\": {\\\\\\\\\\\\\\\"type\\\\\\\\\\\\\\\": 2, \\\\\\\\\\\\\\\"details\\\\\\\\\\\\\\\": {\\\\\\\\\\\\\\\"selectedColumn\\\\\\\\\\\\\\\": \\\\\\\\\\\\\\\"STDs:genital herpes\\\\\\\\\\\\\\\"}}, \\\\\\\\\\\\\\\"typeProperty\\\\\\\\\\\\\\\": 0}, {\\\\\\\\\\\\\\\"column\\\\\\\\\\\\\\\": {\\\\\\\\\\\\\\\"type\\\\\\\\\\\\\\\": 2, \\\\\\\\\\\\\\\"details\\\\\\\\\\\\\\\": {\\\\\\\\\\\\\\\"selectedColumn\\\\\\\\\\\\\\\": \\\\\\\\\\\\\\\"STDs:molluscum contagiosum\\\\\\\\\\\\\\\"}}, \\\\\\\\\\\\\\\"typeProperty\\\\\\\\\\\\\\\": 0}, {\\\\\\\\\\\\\\\"column\\\\\\\\\\\\\\\": {\\\\\\\\\\\\\\\"type\\\\\\\\\\\\\\\": 2, \\\\\\\\\\\\\\\"details\\\\\\\\\\\\\\\": {\\\\\\\\\\\\\\\"selectedColumn\\\\\\\\\\\\\\\": \\\\\\\\\\\\\\\"STDs:AIDS\\\\\\\\\\\\\\\"}}, \\\\\\\\\\\\\\\"typeProperty\\\\\\\\\\\\\\\": 0}, {\\\\\\\\\\\\\\\"column\\\\\\\\\\\\\\\": {\\\\\\\\\\\\\\\"type\\\\\\\\\\\\\\\": 2, \\\\\\\\\\\\\\\"details\\\\\\\\\\\\\\\": {\\\\\\\\\\\\\\\"selectedColumn\\\\\\\\\\\\\\\": \\\\\\\\\\\\\\\"STDs:HIV\\\\\\\\\\\\\\\"}}, \\\\\\\\\\\\\\\"typeProperty\\\\\\\\\\\\\\\": 0}, {\\\\\\\\\\\\\\\"column\\\\\\\\\\\\\\\": {\\\\\\\\\\\\\\\"type\\\\\\\\\\\\\\\": 2, \\\\\\\\\\\\\\\"details\\\\\\\\\\\\\\\": {\\\\\\\\\\\\\\\"selectedColumn\\\\\\\\\\\\\\\": \\\\\\\\\\\\\\\"STDs:Hepatitis B\\\\\\\\\\\\\\\"}}, \\\\\\\\\\\\\\\"typeProperty\\\\\\\\\\\\\\\": 0}, {\\\\\\\\\\\\\\\"column\\\\\\\\\\\\\\\": {\\\\\\\\\\\\\\\"type\\\\\\\\\\\\\\\": 2, \\\\\\\\\\\\\\\"details\\\\\\\\\\\\\\\": {\\\\\\\\\\\\\\\"selectedColumn\\\\\\\\\\\\\\\": \\\\\\\\\\\\\\\"STDs:HPV\\\\\\\\\\\\\\\"}}, \\\\\\\\\\\\\\\"typeProperty\\\\\\\\\\\\\\\": 0}, {\\\\\\\\\\\\\\\"column\\\\\\\\\\\\\\\": {\\\\\\\\\\\\\\\"type\\\\\\\\\\\\\\\": 2, \\\\\\\\\\\\\\\"details\\\\\\\\\\\\\\\": {\\\\\\\\\\\\\\\"selectedColumn\\\\\\\\\\\\\\\": \\\\\\\\\\\\\\\"STDs: Number of diagnosis\\\\\\\\\\\\\\\"}}, \\\\\\\\\\\\\\\"typeProperty\\\\\\\\\\\\\\\": 2}, {\\\\\\\\\\\\\\\"column\\\\\\\\\\\\\\\": {\\\\\\\\\\\\\\\"type\\\\\\\\\\\\\\\": 2, \\\\\\\\\\\\\\\"details\\\\\\\\\\\\\\\": {\\\\\\\\\\\\\\\"selectedColumn\\\\\\\\\\\\\\\": \\\\\\\\\\\\\\\"STDs: Time since first diagnosis\\\\\\\\\\\\\\\"}}, \\\\\\\\\\\\\\\"typeProperty\\\\\\\\\\\\\\\": 0}, {\\\\\\\\\\\\\\\"column\\\\\\\\\\\\\\\": {\\\\\\\\\\\\\\\"type\\\\\\\\\\\\\\\": 2, \\\\\\\\\\\\\\\"details\\\\\\\\\\\\\\\": {\\\\\\\\\\\\\\\"selectedColumn\\\\\\\\\\\\\\\": \\\\\\\\\\\\\\\"STDs: Time since last diagnosis\\\\\\\\\\\\\\\"}}, \\\\\\\\\\\\\\\"typeProperty\\\\\\\\\\\\\\\": 0}, {\\\\\\\\\\\\\\\"column\\\\\\\\\\\\\\\": {\\\\\\\\\\\\\\\"type\\\\\\\\\\\\\\\": 2, \\\\\\\\\\\\\\\"details\\\\\\\\\\\\\\\": {\\\\\\\\\\\\\\\"selectedColumn\\\\\\\\\\\\\\\": \\\\\\\\\\\\\\\"Dx:Cancer\\\\\\\\\\\\\\\"}}, \\\\\\\\\\\\\\\"typeProperty\\\\\\\\\\\\\\\": 2}, {\\\\\\\\\\\\\\\"column\\\\\\\\\\\\\\\": {\\\\\\\\\\\\\\\"type\\\\\\\\\\\\\\\": 2, \\\\\\\\\\\\\\\"details\\\\\\\\\\\\\\\": {\\\\\\\\\\\\\\\"selectedColumn\\\\\\\\\\\\\\\": \\\\\\\\\\\\\\\"Dx:CIN\\\\\\\\\\\\\\\"}}, \\\\\\\\\\\\\\\"typeProperty\\\\\\\\\\\\\\\": 2}, {\\\\\\\\\\\\\\\"column\\\\\\\\\\\\\\\": {\\\\\\\\\\\\\\\"type\\\\\\\\\\\\\\\": 2, \\\\\\\\\\\\\\\"details\\\\\\\\\\\\\\\": {\\\\\\\\\\\\\\\"selectedColumn\\\\\\\\\\\\\\\": \\\\\\\\\\\\\\\"Dx:HPV\\\\\\\\\\\\\\\"}}, \\\\\\\\\\\\\\\"typeProperty\\\\\\\\\\\\\\\": 2}, {\\\\\\\\\\\\\\\"column\\\\\\\\\\\\\\\": {\\\\\\\\\\\\\\\"type\\\\\\\\\\\\\\\": 2, \\\\\\\\\\\\\\\"details\\\\\\\\\\\\\\\": {\\\\\\\\\\\\\\\"selectedColumn\\\\\\\\\\\\\\\": \\\\\\\\\\\\\\\"Dx\\\\\\\\\\\\\\\"}}, \\\\\\\\\\\\\\\"typeProperty\\\\\\\\\\\\\\\": 2}, {\\\\\\\\\\\\\\\"column\\\\\\\\\\\\\\\": {\\\\\\\\\\\\\\\"type\\\\\\\\\\\\\\\": 2, \\\\\\\\\\\\\\\"details\\\\\\\\\\\\\\\": {\\\\\\\\\\\\\\\"selectedColumn\\\\\\\\\\\\\\\": \\\\\\\\\\\\\\\"Hinselmann\\\\\\\\\\\\\\\"}}, \\\\\\\\\\\\\\\"typeProperty\\\\\\\\\\\\\\\": 2}, {\\\\\\\\\\\\\\\"column\\\\\\\\\\\\\\\": {\\\\\\\\\\\\\\\"type\\\\\\\\\\\\\\\": 2, \\\\\\\\\\\\\\\"details\\\\\\\\\\\\\\\": {\\\\\\\\\\\\\\\"selectedColumn\\\\\\\\\\\\\\\": \\\\\\\\\\\\\\\"Citology\\\\\\\\\\\\\\\"}}, \\\\\\\\\\\\\\\"typeProperty\\\\\\\\\\\\\\\": 2}, {\\\\\\\\\\\\\\\"column\\\\\\\\\\\\\\\": {\\\\\\\\\\\\\\\"type\\\\\\\\\\\\\\\": 2, \\\\\\\\\\\\\\\"details\\\\\\\\\\\\\\\": {\\\\\\\\\\\\\\\"selectedColumn\\\\\\\\\\\\\\\": \\\\\\\\\\\\\\\"Biopsy\\\\\\\\\\\\\\\"}}, \\\\\\\\\\\\\\\"typeProperty\\\\\\\\\\\\\\\": 2}, {\\\\\\\\\\\\\\\"column\\\\\\\\\\\\\\\": {\\\\\\\\\\\\\\\"type\\\\\\\\\\\\\\\": 2, \\\\\\\\\\\\\\\"details\\\\\\\\\\\\\\\": {\\\\\\\\\\\\\\\"selectedColumn\\\\\\\\\\\\\\\": \\\\\\\\\\\\\\\"Schiller\\\\\\\\\\\\\\\"}}, \\\\\\\\\\\\\\\"typeProperty\\\\\\\\\\\\\\\": 2}]}, \\\\\\\\\\\\\\\"localData\\\\\\\\\\\\\\\": {}, \\\\\\\\\\\\\\\"isEnabled\\\\\\\\\\\\\\\": true, \\\\\\\\\\\\\\\"name\\\\\\\\\\\\\\\": null, \\\\\\\\\\\\\\\"annotation\\\\\\\\\\\\\\\": null}], \\\\\\\\\\\\\\\"inspectors\\\\\\\\\\\\\\\": [], \\\\\\\\\\\\\\\"meta\\\\\\\\\\\\\\\": {\\\\\\\\\\\\\\\"savedDatasetId\\\\\\\\\\\\\\\": \\\\\\\\\\\\\\\"e9c59832-964e-485d-9b94-0175d0477179\\\\\\\\\\\\\\\", \\\\\\\\\\\\\\\"datasetType\\\\\\\\\\\\\\\": \\\\\\\\\\\\\\\"tabular\\\\\\\\\\\\\\\", \\\\\\\\\\\\\\\"subscriptionId\\\\\\\\\\\\\\\": \\\\\\\\\\\\\\\"f5091c60-1c3c-430f-8d81-d802f6bf2414\\\\\\\\\\\\\\\", \\\\\\\\\\\\\\\"workspaceId\\\\\\\\\\\\\\\": \\\\\\\\\\\\\\\"a76f530f-27cf-4c37-bf55-3b9ea5a0759d\\\\\\\\\\\\\\\", \\\\\\\\\\\\\\\"workspaceLocation\\\\\\\\\\\\\\\": \\\\\\\\\\\\\\\"southcentralus\\\\\\\\\\\\\\\"}}\\\\\\\", \\\\\\\"activities\\\\\\\": 0}\", \"EnableSubsampling\": null, \"runTemplate\": \"AutoML\", \"azureml.runsource\": \"automl\", \"display_task_type\": \"classification\", \"dependencies_versions\": \"{\\\"azureml-widgets\\\": \\\"1.19.0\\\", \\\"azureml-train\\\": \\\"1.19.0\\\", \\\"azureml-train-restclients-hyperdrive\\\": \\\"1.19.0\\\", \\\"azureml-train-core\\\": \\\"1.19.0\\\", \\\"azureml-train-automl\\\": \\\"1.19.0\\\", \\\"azureml-train-automl-runtime\\\": \\\"1.19.0\\\", \\\"azureml-train-automl-client\\\": \\\"1.19.0\\\", \\\"azureml-tensorboard\\\": \\\"1.19.0\\\", \\\"azureml-telemetry\\\": \\\"1.19.0\\\", \\\"azureml-sdk\\\": \\\"1.19.0\\\", \\\"azureml-samples\\\": \\\"0+unknown\\\", \\\"azureml-pipeline\\\": \\\"1.19.0\\\", \\\"azureml-pipeline-steps\\\": \\\"1.19.0\\\", \\\"azureml-pipeline-core\\\": \\\"1.19.0\\\", \\\"azureml-opendatasets\\\": \\\"1.19.0\\\", \\\"azureml-model-management-sdk\\\": \\\"1.0.1b6.post1\\\", \\\"azureml-mlflow\\\": \\\"1.19.0\\\", \\\"azureml-interpret\\\": \\\"1.19.0\\\", \\\"azureml-explain-model\\\": \\\"1.19.0\\\", \\\"azureml-defaults\\\": \\\"1.19.0\\\", \\\"azureml-dataset-runtime\\\": \\\"1.19.0.post1\\\", \\\"azureml-dataprep\\\": \\\"2.6.1\\\", \\\"azureml-dataprep-rslex\\\": \\\"1.4.0\\\", \\\"azureml-dataprep-native\\\": \\\"26.0.0\\\", \\\"azureml-datadrift\\\": \\\"1.19.0\\\", \\\"azureml-core\\\": \\\"1.19.0\\\", \\\"azureml-contrib-services\\\": \\\"1.19.0\\\", \\\"azureml-contrib-server\\\": \\\"1.19.0\\\", \\\"azureml-contrib-reinforcementlearning\\\": \\\"1.19.0\\\", \\\"azureml-contrib-pipeline-steps\\\": \\\"1.19.0\\\", \\\"azureml-contrib-notebook\\\": \\\"1.19.0\\\", \\\"azureml-contrib-interpret\\\": \\\"1.19.0\\\", \\\"azureml-contrib-gbdt\\\": \\\"1.19.0\\\", \\\"azureml-contrib-fairness\\\": \\\"1.19.0\\\", \\\"azureml-contrib-dataset\\\": \\\"1.19.0\\\", \\\"azureml-cli-common\\\": \\\"1.19.0\\\", \\\"azureml-automl-runtime\\\": \\\"1.19.0\\\", \\\"azureml-automl-core\\\": \\\"1.19.0\\\", \\\"azureml-accel-models\\\": \\\"1.19.0\\\"}\", \"_aml_system_scenario_identification\": \"Remote.Parent\", \"ClientType\": \"SDK\", \"environment_cpu_name\": \"AzureML-AutoML\", \"environment_cpu_label\": \"prod\", \"environment_gpu_name\": \"AzureML-AutoML-GPU\", \"environment_gpu_label\": \"prod\", \"root_attribution\": \"automl\", \"attribution\": \"AutoML\", \"Orchestrator\": \"AutoML\", \"CancelUri\": \"https://southcentralus.experiments.azureml.net/jasmine/v1.0/subscriptions/f5091c60-1c3c-430f-8d81-d802f6bf2414/resourceGroups/aml-quickstarts-134869/providers/Microsoft.MachineLearningServices/workspaces/quick-starts-ws-134869/experimentids/81f42f79-e427-492c-9cac-bb2c8183191f/cancel/AutoML_feaca0fa-04ae-4c0b-97e6-88c8961212d8\", \"ClientSdkVersion\": \"1.19.0\", \"snapshotId\": \"00000000-0000-0000-0000-000000000000\", \"SetupRunId\": \"AutoML_feaca0fa-04ae-4c0b-97e6-88c8961212d8_setup\", \"SetupRunContainerId\": \"dcid.AutoML_feaca0fa-04ae-4c0b-97e6-88c8961212d8_setup\", \"FeaturizationRunJsonPath\": \"featurizer_container.json\", \"FeaturizationRunId\": \"AutoML_feaca0fa-04ae-4c0b-97e6-88c8961212d8_featurize\", \"ProblemInfoJsonString\": \"{\\\"dataset_num_categorical\\\": 0, \\\"is_sparse\\\": true, \\\"subsampling\\\": false, \\\"dataset_classes\\\": 2, \\\"dataset_features\\\": 258, \\\"dataset_samples\\\": 643, \\\"single_frequency_class_detected\\\": false}\", \"ModelExplainRunId\": \"AutoML_feaca0fa-04ae-4c0b-97e6-88c8961212d8_ModelExplain\"}, \"tags\": {\"model_explain_run\": \"best_run\", \"_aml_system_azureml.automlComponent\": \"AutoML\", \"pipeline_id\": \"\", \"score\": \"\", \"predicted_cost\": \"\", \"fit_time\": \"\", \"training_percent\": \"\", \"iteration\": \"\", \"run_preprocessor\": \"\", \"run_algorithm\": \"\", \"dynamic_whitelisting_iterations\": \"<25>;\", \"automl_best_child_run_id\": \"AutoML_feaca0fa-04ae-4c0b-97e6-88c8961212d8_30\", \"model_explain_best_run_child_id\": \"AutoML_feaca0fa-04ae-4c0b-97e6-88c8961212d8_30\"}, \"end_time_utc\": \"2021-01-16T14:17:12.993777Z\", \"status\": \"Completed\", \"log_files\": {}, \"log_groups\": [], \"run_duration\": \"0:42:59\"}, \"child_runs\": [{\"run_id\": \"AutoML_feaca0fa-04ae-4c0b-97e6-88c8961212d8_0\", \"run_number\": 5, \"metric\": null, \"status\": \"Completed\", \"run_type\": \"azureml.scriptrun\", \"training_percent\": \"100\", \"start_time\": \"2021-01-16T13:43:41.634657Z\", \"end_time\": \"2021-01-16T13:44:26.288633Z\", \"created_time\": \"2021-01-16T13:43:30.196875Z\", \"created_time_dt\": \"2021-01-16T13:43:30.196875Z\", \"duration\": \"0:00:56\", \"iteration\": \"0\", \"goal\": \"accuracy_max\", \"run_name\": \"MaxAbsScaler, LightGBM\", \"run_properties\": \"copy=True\", \"primary_metric\": 0.95332174, \"best_metric\": 0.95332174}, {\"run_id\": \"AutoML_feaca0fa-04ae-4c0b-97e6-88c8961212d8_1\", \"run_number\": 6, \"metric\": null, \"status\": \"Completed\", \"run_type\": \"azureml.scriptrun\", \"training_percent\": \"100\", \"start_time\": \"2021-01-16T13:44:41.741488Z\", \"end_time\": \"2021-01-16T13:45:28.158904Z\", \"created_time\": \"2021-01-16T13:44:27.775667Z\", \"created_time_dt\": \"2021-01-16T13:44:27.775667Z\", \"duration\": \"0:01:00\", \"iteration\": \"1\", \"goal\": \"accuracy_max\", \"run_name\": \"MaxAbsScaler, XGBoostClassifier\", \"run_properties\": \"copy=True\", \"primary_metric\": 0.97044845, \"best_metric\": 0.97044845}, {\"run_id\": \"AutoML_feaca0fa-04ae-4c0b-97e6-88c8961212d8_2\", \"run_number\": 7, \"metric\": null, \"status\": \"Completed\", \"run_type\": \"azureml.scriptrun\", \"training_percent\": \"100\", \"start_time\": \"2021-01-16T13:45:43.595076Z\", \"end_time\": \"2021-01-16T13:46:29.823821Z\", \"created_time\": \"2021-01-16T13:45:30.174167Z\", \"created_time_dt\": \"2021-01-16T13:45:30.174167Z\", \"duration\": \"0:00:59\", \"iteration\": \"2\", \"goal\": \"accuracy_max\", \"run_name\": \"MaxAbsScaler, RandomForest\", \"run_properties\": \"copy=True\", \"primary_metric\": 0.93778164, \"best_metric\": 0.97044845}, {\"run_id\": \"AutoML_feaca0fa-04ae-4c0b-97e6-88c8961212d8_3\", \"run_number\": 8, \"metric\": null, \"status\": \"Completed\", \"run_type\": \"azureml.scriptrun\", \"training_percent\": \"100\", \"start_time\": \"2021-01-16T13:46:45.269677Z\", \"end_time\": \"2021-01-16T13:47:23.238257Z\", \"created_time\": \"2021-01-16T13:46:32.10414Z\", \"created_time_dt\": \"2021-01-16T13:46:32.10414Z\", \"duration\": \"0:00:51\", \"iteration\": \"3\", \"goal\": \"accuracy_max\", \"run_name\": \"MaxAbsScaler, RandomForest\", \"run_properties\": \"copy=True\", \"primary_metric\": 0.91600377, \"best_metric\": 0.97044845}, {\"run_id\": \"AutoML_feaca0fa-04ae-4c0b-97e6-88c8961212d8_4\", \"run_number\": 9, \"metric\": null, \"status\": \"Completed\", \"run_type\": \"azureml.scriptrun\", \"training_percent\": \"100\", \"start_time\": \"2021-01-16T13:47:37.246374Z\", \"end_time\": \"2021-01-16T13:48:18.994356Z\", \"created_time\": \"2021-01-16T13:47:26.439949Z\", \"created_time_dt\": \"2021-01-16T13:47:26.439949Z\", \"duration\": \"0:00:52\", \"iteration\": \"4\", \"goal\": \"accuracy_max\", \"run_name\": \"MaxAbsScaler, RandomForest\", \"run_properties\": \"copy=True\", \"primary_metric\": 0.87078896, \"best_metric\": 0.97044845}, {\"run_id\": \"AutoML_feaca0fa-04ae-4c0b-97e6-88c8961212d8_5\", \"run_number\": 10, \"metric\": null, \"status\": \"Completed\", \"run_type\": \"azureml.scriptrun\", \"training_percent\": \"100\", \"start_time\": \"2021-01-16T13:48:32.600633Z\", \"end_time\": \"2021-01-16T13:49:22.932481Z\", \"created_time\": \"2021-01-16T13:48:21.486789Z\", \"created_time_dt\": \"2021-01-16T13:48:21.486789Z\", \"duration\": \"0:01:01\", \"iteration\": \"5\", \"goal\": \"accuracy_max\", \"run_name\": \"MaxAbsScaler, RandomForest\", \"run_properties\": \"copy=True\", \"primary_metric\": 0.91592407, \"best_metric\": 0.97044845}, {\"run_id\": \"AutoML_feaca0fa-04ae-4c0b-97e6-88c8961212d8_6\", \"run_number\": 11, \"metric\": null, \"status\": \"Completed\", \"run_type\": \"azureml.scriptrun\", \"training_percent\": \"100\", \"start_time\": \"2021-01-16T13:49:37.103469Z\", \"end_time\": \"2021-01-16T13:50:24.483294Z\", \"created_time\": \"2021-01-16T13:49:25.338805Z\", \"created_time_dt\": \"2021-01-16T13:49:25.338805Z\", \"duration\": \"0:00:59\", \"iteration\": \"6\", \"goal\": \"accuracy_max\", \"run_name\": \"SparseNormalizer, XGBoostClassifier\", \"run_properties\": \"<azureml.automl.runtime.shared.model_wrappers.SparseNormalizer object at 0x7f28f73660f0\", \"primary_metric\": 0.96577556, \"best_metric\": 0.97044845}, {\"run_id\": \"AutoML_feaca0fa-04ae-4c0b-97e6-88c8961212d8_7\", \"run_number\": 12, \"metric\": null, \"status\": \"Completed\", \"run_type\": \"azureml.scriptrun\", \"training_percent\": \"100\", \"start_time\": \"2021-01-16T13:50:38.006227Z\", \"end_time\": \"2021-01-16T13:51:27.254195Z\", \"created_time\": \"2021-01-16T13:50:26.676455Z\", \"created_time_dt\": \"2021-01-16T13:50:26.676455Z\", \"duration\": \"0:01:00\", \"iteration\": \"7\", \"goal\": \"accuracy_max\", \"run_name\": \"MaxAbsScaler, RandomForest\", \"run_properties\": \"copy=True\", \"primary_metric\": 0.91600377, \"best_metric\": 0.97044845}, {\"run_id\": \"AutoML_feaca0fa-04ae-4c0b-97e6-88c8961212d8_8\", \"run_number\": 13, \"metric\": null, \"status\": \"Completed\", \"run_type\": \"azureml.scriptrun\", \"training_percent\": \"100\", \"start_time\": \"2021-01-16T13:51:42.748103Z\", \"end_time\": \"2021-01-16T13:52:22.688518Z\", \"created_time\": \"2021-01-16T13:51:29.529368Z\", \"created_time_dt\": \"2021-01-16T13:51:29.529368Z\", \"duration\": \"0:00:53\", \"iteration\": \"8\", \"goal\": \"accuracy_max\", \"run_name\": \"SparseNormalizer, LightGBM\", \"run_properties\": \"<azureml.automl.runtime.shared.model_wrappers.SparseNormalizer object at 0x7f38f95e5f98\", \"primary_metric\": 0.92840687, \"best_metric\": 0.97044845}, {\"run_id\": \"AutoML_feaca0fa-04ae-4c0b-97e6-88c8961212d8_9\", \"run_number\": 14, \"metric\": null, \"status\": \"Completed\", \"run_type\": \"azureml.scriptrun\", \"training_percent\": \"100\", \"start_time\": \"2021-01-16T13:52:35.450404Z\", \"end_time\": \"2021-01-16T13:53:23.292936Z\", \"created_time\": \"2021-01-16T13:52:25.28237Z\", \"created_time_dt\": \"2021-01-16T13:52:25.28237Z\", \"duration\": \"0:00:58\", \"iteration\": \"9\", \"goal\": \"accuracy_max\", \"run_name\": \"MaxAbsScaler, LogisticRegression\", \"run_properties\": \"copy=True\", \"primary_metric\": 0.95487213, \"best_metric\": 0.97044845}, {\"run_id\": \"AutoML_feaca0fa-04ae-4c0b-97e6-88c8961212d8_10\", \"run_number\": 15, \"metric\": null, \"status\": \"Completed\", \"run_type\": \"azureml.scriptrun\", \"training_percent\": \"100\", \"start_time\": \"2021-01-16T13:53:38.039233Z\", \"end_time\": \"2021-01-16T13:54:29.573529Z\", \"created_time\": \"2021-01-16T13:53:25.467053Z\", \"created_time_dt\": \"2021-01-16T13:53:25.467053Z\", \"duration\": \"0:01:04\", \"iteration\": \"10\", \"goal\": \"accuracy_max\", \"run_name\": \"MaxAbsScaler, RandomForest\", \"run_properties\": \"copy=True\", \"primary_metric\": 0.93931029, \"best_metric\": 0.97044845}, {\"run_id\": \"AutoML_feaca0fa-04ae-4c0b-97e6-88c8961212d8_11\", \"run_number\": 16, \"metric\": null, \"status\": \"Completed\", \"run_type\": \"azureml.scriptrun\", \"training_percent\": \"100\", \"start_time\": \"2021-01-16T13:54:45.1504Z\", \"end_time\": \"2021-01-16T13:55:30.823006Z\", \"created_time\": \"2021-01-16T13:54:32.011134Z\", \"created_time_dt\": \"2021-01-16T13:54:32.011134Z\", \"duration\": \"0:00:58\", \"iteration\": \"11\", \"goal\": \"accuracy_max\", \"run_name\": \"SparseNormalizer, XGBoostClassifier\", \"run_properties\": \"<azureml.automl.runtime.shared.model_wrappers.SparseNormalizer object at 0x7f30db7eafd0\", \"primary_metric\": 0.95332899, \"best_metric\": 0.97044845}, {\"run_id\": \"AutoML_feaca0fa-04ae-4c0b-97e6-88c8961212d8_12\", \"run_number\": 17, \"metric\": null, \"status\": \"Completed\", \"run_type\": \"azureml.scriptrun\", \"training_percent\": \"100\", \"start_time\": \"2021-01-16T13:55:45.530642Z\", \"end_time\": \"2021-01-16T13:56:28.370383Z\", \"created_time\": \"2021-01-16T13:55:33.245701Z\", \"created_time_dt\": \"2021-01-16T13:55:33.245701Z\", \"duration\": \"0:00:55\", \"iteration\": \"12\", \"goal\": \"accuracy_max\", \"run_name\": \"MaxAbsScaler, LightGBM\", \"run_properties\": \"copy=True\", \"primary_metric\": 0.91600377, \"best_metric\": 0.97044845}, {\"run_id\": \"AutoML_feaca0fa-04ae-4c0b-97e6-88c8961212d8_13\", \"run_number\": 18, \"metric\": null, \"status\": \"Completed\", \"run_type\": \"azureml.scriptrun\", \"training_percent\": \"100\", \"start_time\": \"2021-01-16T13:56:43.37626Z\", \"end_time\": \"2021-01-16T13:57:29.006864Z\", \"created_time\": \"2021-01-16T13:56:30.405586Z\", \"created_time_dt\": \"2021-01-16T13:56:30.405586Z\", \"duration\": \"0:00:58\", \"iteration\": \"13\", \"goal\": \"accuracy_max\", \"run_name\": \"SparseNormalizer, XGBoostClassifier\", \"run_properties\": \"<azureml.automl.runtime.shared.model_wrappers.SparseNormalizer object at 0x7fd75a7c1518\", \"primary_metric\": 0.96110266, \"best_metric\": 0.97044845}, {\"run_id\": \"AutoML_feaca0fa-04ae-4c0b-97e6-88c8961212d8_14\", \"run_number\": 19, \"metric\": null, \"status\": \"Completed\", \"run_type\": \"azureml.scriptrun\", \"training_percent\": \"100\", \"start_time\": \"2021-01-16T13:57:42.919988Z\", \"end_time\": \"2021-01-16T13:58:40.514745Z\", \"created_time\": \"2021-01-16T13:57:31.205861Z\", \"created_time_dt\": \"2021-01-16T13:57:31.205861Z\", \"duration\": \"0:01:09\", \"iteration\": \"14\", \"goal\": \"accuracy_max\", \"run_name\": \"SparseNormalizer, XGBoostClassifier\", \"run_properties\": \"<azureml.automl.runtime.shared.model_wrappers.SparseNormalizer object at 0x7f82a95677b8\", \"primary_metric\": 0.96266754, \"best_metric\": 0.97044845}, {\"run_id\": \"AutoML_feaca0fa-04ae-4c0b-97e6-88c8961212d8_15\", \"run_number\": 20, \"metric\": null, \"status\": \"Completed\", \"run_type\": \"azureml.scriptrun\", \"training_percent\": \"100\", \"start_time\": \"2021-01-16T13:58:52.961739Z\", \"end_time\": \"2021-01-16T13:59:40.357224Z\", \"created_time\": \"2021-01-16T13:58:42.293807Z\", \"created_time_dt\": \"2021-01-16T13:58:42.293807Z\", \"duration\": \"0:00:58\", \"iteration\": \"15\", \"goal\": \"accuracy_max\", \"run_name\": \"StandardScalerWrapper, LightGBM\", \"run_properties\": \"<azureml.automl.runtime.shared.model_wrappers.StandardScalerWrapper object at 0x7f21335bdba8\", \"primary_metric\": 0.91600377, \"best_metric\": 0.97044845}, {\"run_id\": \"AutoML_feaca0fa-04ae-4c0b-97e6-88c8961212d8_16\", \"run_number\": 21, \"metric\": null, \"status\": \"Completed\", \"run_type\": \"azureml.scriptrun\", \"training_percent\": \"100\", \"start_time\": \"2021-01-16T13:59:53.464206Z\", \"end_time\": \"2021-01-16T14:00:43.837289Z\", \"created_time\": \"2021-01-16T13:59:42.14853Z\", \"created_time_dt\": \"2021-01-16T13:59:42.14853Z\", \"duration\": \"0:01:01\", \"iteration\": \"16\", \"goal\": \"accuracy_max\", \"run_name\": \"MaxAbsScaler, ExtremeRandomTrees\", \"run_properties\": \"copy=True\", \"primary_metric\": 0.93000072, \"best_metric\": 0.97044845}, {\"run_id\": \"AutoML_feaca0fa-04ae-4c0b-97e6-88c8961212d8_17\", \"run_number\": 22, \"metric\": null, \"status\": \"Completed\", \"run_type\": \"azureml.scriptrun\", \"training_percent\": \"100\", \"start_time\": \"2021-01-16T14:00:58.528287Z\", \"end_time\": \"2021-01-16T14:01:44.286564Z\", \"created_time\": \"2021-01-16T14:00:45.55174Z\", \"created_time_dt\": \"2021-01-16T14:00:45.55174Z\", \"duration\": \"0:00:58\", \"iteration\": \"17\", \"goal\": \"accuracy_max\", \"run_name\": \"MaxAbsScaler, LightGBM\", \"run_properties\": \"copy=True\", \"primary_metric\": 0.96111715, \"best_metric\": 0.97044845}, {\"run_id\": \"AutoML_feaca0fa-04ae-4c0b-97e6-88c8961212d8_18\", \"run_number\": 23, \"metric\": null, \"status\": \"Completed\", \"run_type\": \"azureml.scriptrun\", \"training_percent\": \"100\", \"start_time\": \"2021-01-16T14:01:56.992927Z\", \"end_time\": \"2021-01-16T14:02:41.539961Z\", \"created_time\": \"2021-01-16T14:01:46.392126Z\", \"created_time_dt\": \"2021-01-16T14:01:46.392126Z\", \"duration\": \"0:00:55\", \"iteration\": \"18\", \"goal\": \"accuracy_max\", \"run_name\": \"MaxAbsScaler, LogisticRegression\", \"run_properties\": \"copy=True\", \"primary_metric\": 0.95332899, \"best_metric\": 0.97044845}, {\"run_id\": \"AutoML_feaca0fa-04ae-4c0b-97e6-88c8961212d8_19\", \"run_number\": 24, \"metric\": null, \"status\": \"Completed\", \"run_type\": \"azureml.scriptrun\", \"training_percent\": \"100\", \"start_time\": \"2021-01-16T14:02:54.360158Z\", \"end_time\": \"2021-01-16T14:03:53.777203Z\", \"created_time\": \"2021-01-16T14:02:43.703058Z\", \"created_time_dt\": \"2021-01-16T14:02:43.703058Z\", \"duration\": \"0:01:10\", \"iteration\": \"19\", \"goal\": \"accuracy_max\", \"run_name\": \"StandardScalerWrapper, ExtremeRandomTrees\", \"run_properties\": \"<azureml.automl.runtime.shared.model_wrappers.StandardScalerWrapper object at 0x7f74855a6cf8\", \"primary_metric\": 0.94399768, \"best_metric\": 0.97044845}, {\"run_id\": \"AutoML_feaca0fa-04ae-4c0b-97e6-88c8961212d8_20\", \"run_number\": 25, \"metric\": null, \"status\": \"Completed\", \"run_type\": \"azureml.scriptrun\", \"training_percent\": \"100\", \"start_time\": \"2021-01-16T14:04:06.06076Z\", \"end_time\": \"2021-01-16T14:04:45.129968Z\", \"created_time\": \"2021-01-16T14:03:55.483276Z\", \"created_time_dt\": \"2021-01-16T14:03:55.483276Z\", \"duration\": \"0:00:49\", \"iteration\": \"20\", \"goal\": \"accuracy_max\", \"run_name\": \"StandardScalerWrapper, XGBoostClassifier\", \"run_properties\": \"<azureml.automl.runtime.shared.model_wrappers.StandardScalerWrapper object at 0x7f89de50b400\", \"primary_metric\": 0.95332899, \"best_metric\": 0.97044845}, {\"run_id\": \"AutoML_feaca0fa-04ae-4c0b-97e6-88c8961212d8_21\", \"run_number\": 26, \"metric\": null, \"status\": \"Completed\", \"run_type\": \"azureml.scriptrun\", \"training_percent\": \"100\", \"start_time\": \"2021-01-16T14:05:00.634293Z\", \"end_time\": \"2021-01-16T14:05:52.860939Z\", \"created_time\": \"2021-01-16T14:04:46.961663Z\", \"created_time_dt\": \"2021-01-16T14:04:46.961663Z\", \"duration\": \"0:01:05\", \"iteration\": \"21\", \"goal\": \"accuracy_max\", \"run_name\": \"SparseNormalizer, XGBoostClassifier\", \"run_properties\": \"<azureml.automl.runtime.shared.model_wrappers.SparseNormalizer object at 0x7f7dad308fd0\", \"primary_metric\": 0.96421792, \"best_metric\": 0.97044845}, {\"run_id\": \"AutoML_feaca0fa-04ae-4c0b-97e6-88c8961212d8_22\", \"run_number\": 27, \"metric\": null, \"status\": \"Completed\", \"run_type\": \"azureml.scriptrun\", \"training_percent\": \"100\", \"start_time\": \"2021-01-16T14:06:10.704484Z\", \"end_time\": \"2021-01-16T14:07:02.990021Z\", \"created_time\": \"2021-01-16T14:05:55.046342Z\", \"created_time_dt\": \"2021-01-16T14:05:55.046342Z\", \"duration\": \"0:01:07\", \"iteration\": \"22\", \"goal\": \"accuracy_max\", \"run_name\": \"StandardScalerWrapper, XGBoostClassifier\", \"run_properties\": \"<azureml.automl.runtime.shared.model_wrappers.StandardScalerWrapper object at 0x7f6c48fb7ef0\", \"primary_metric\": 0.94709121, \"best_metric\": 0.97044845}, {\"run_id\": \"AutoML_feaca0fa-04ae-4c0b-97e6-88c8961212d8_23\", \"run_number\": 28, \"metric\": null, \"status\": \"Completed\", \"run_type\": \"azureml.scriptrun\", \"training_percent\": \"100\", \"start_time\": \"2021-01-16T14:07:15.391537Z\", \"end_time\": \"2021-01-16T14:08:03.320345Z\", \"created_time\": \"2021-01-16T14:07:05.217474Z\", \"created_time_dt\": \"2021-01-16T14:07:05.217474Z\", \"duration\": \"0:00:58\", \"iteration\": \"23\", \"goal\": \"accuracy_max\", \"run_name\": \"StandardScalerWrapper, XGBoostClassifier\", \"run_properties\": \"<azureml.automl.runtime.shared.model_wrappers.StandardScalerWrapper object at 0x7fb6226380b8\", \"primary_metric\": 0.9611099, \"best_metric\": 0.97044845}, {\"run_id\": \"AutoML_feaca0fa-04ae-4c0b-97e6-88c8961212d8_24\", \"run_number\": 29, \"metric\": null, \"status\": \"Completed\", \"run_type\": \"azureml.scriptrun\", \"training_percent\": \"100\", \"start_time\": \"2021-01-16T14:08:17.363151Z\", \"end_time\": \"2021-01-16T14:09:03.054357Z\", \"created_time\": \"2021-01-16T14:08:05.014472Z\", \"created_time_dt\": \"2021-01-16T14:08:05.014472Z\", \"duration\": \"0:00:58\", \"iteration\": \"24\", \"goal\": \"accuracy_max\", \"run_name\": \"SparseNormalizer, XGBoostClassifier\", \"run_properties\": \"<azureml.automl.runtime.shared.model_wrappers.SparseNormalizer object at 0x7f45b0482be0\", \"primary_metric\": 0.96110266, \"best_metric\": 0.97044845}, {\"run_id\": \"AutoML_feaca0fa-04ae-4c0b-97e6-88c8961212d8_25\", \"run_number\": 30, \"metric\": null, \"status\": \"Completed\", \"run_type\": \"azureml.scriptrun\", \"training_percent\": \"100\", \"start_time\": \"2021-01-16T14:09:16.800198Z\", \"end_time\": \"2021-01-16T14:09:55.860235Z\", \"created_time\": \"2021-01-16T14:09:05.798556Z\", \"created_time_dt\": \"2021-01-16T14:09:05.798556Z\", \"duration\": \"0:00:50\", \"iteration\": \"25\", \"goal\": \"accuracy_max\", \"run_name\": \"SparseNormalizer, XGBoostClassifier\", \"run_properties\": \"<azureml.automl.runtime.shared.model_wrappers.SparseNormalizer object at 0x7f78477d56d8\", \"primary_metric\": 0.91600377, \"best_metric\": 0.97044845}, {\"run_id\": \"AutoML_feaca0fa-04ae-4c0b-97e6-88c8961212d8_26\", \"run_number\": 31, \"metric\": null, \"status\": \"Completed\", \"run_type\": \"azureml.scriptrun\", \"training_percent\": \"100\", \"start_time\": \"2021-01-16T14:10:10.615443Z\", \"end_time\": \"2021-01-16T14:10:59.189667Z\", \"created_time\": \"2021-01-16T14:09:57.454808Z\", \"created_time_dt\": \"2021-01-16T14:09:57.454808Z\", \"duration\": \"0:01:01\", \"iteration\": \"26\", \"goal\": \"accuracy_max\", \"run_name\": \"StandardScalerWrapper, XGBoostClassifier\", \"run_properties\": \"<azureml.automl.runtime.shared.model_wrappers.StandardScalerWrapper object at 0x7f83700e9828\", \"primary_metric\": 0.9611099, \"best_metric\": 0.97044845}, {\"run_id\": \"AutoML_feaca0fa-04ae-4c0b-97e6-88c8961212d8_27\", \"run_number\": 32, \"metric\": null, \"status\": \"Completed\", \"run_type\": \"azureml.scriptrun\", \"training_percent\": \"100\", \"start_time\": \"2021-01-16T14:11:15.125236Z\", \"end_time\": \"2021-01-16T14:12:01.619869Z\", \"created_time\": \"2021-01-16T14:11:00.86177Z\", \"created_time_dt\": \"2021-01-16T14:11:00.86177Z\", \"duration\": \"0:01:00\", \"iteration\": \"27\", \"goal\": \"accuracy_max\", \"run_name\": \"MaxAbsScaler, LogisticRegression\", \"run_properties\": \"copy=True\", \"primary_metric\": 0.95643701, \"best_metric\": 0.97044845}, {\"run_id\": \"AutoML_feaca0fa-04ae-4c0b-97e6-88c8961212d8_28\", \"run_number\": 33, \"metric\": null, \"status\": \"Completed\", \"run_type\": \"azureml.scriptrun\", \"training_percent\": \"100\", \"start_time\": \"2021-01-16T14:12:16.919577Z\", \"end_time\": \"2021-01-16T14:13:07.991387Z\", \"created_time\": \"2021-01-16T14:12:03.76183Z\", \"created_time_dt\": \"2021-01-16T14:12:03.76183Z\", \"duration\": \"0:01:04\", \"iteration\": \"28\", \"goal\": \"accuracy_max\", \"run_name\": \"StandardScalerWrapper, XGBoostClassifier\", \"run_properties\": \"<azureml.automl.runtime.shared.model_wrappers.StandardScalerWrapper object at 0x7f801b931588\", \"primary_metric\": 0.96889082, \"best_metric\": 0.97044845}, {\"run_id\": \"AutoML_feaca0fa-04ae-4c0b-97e6-88c8961212d8_29\", \"run_number\": 34, \"metric\": null, \"status\": \"Completed\", \"run_type\": \"azureml.scriptrun\", \"training_percent\": \"100\", \"start_time\": \"2021-01-16T14:13:23.958139Z\", \"end_time\": \"2021-01-16T14:14:12.526908Z\", \"created_time\": \"2021-01-16T14:13:10.959846Z\", \"created_time_dt\": \"2021-01-16T14:13:10.959846Z\", \"duration\": \"0:01:01\", \"iteration\": \"29\", \"goal\": \"accuracy_max\", \"run_name\": \"SparseNormalizer, XGBoostClassifier\", \"run_properties\": \"<azureml.automl.runtime.shared.model_wrappers.SparseNormalizer object at 0x7fb434e02278\", \"primary_metric\": 0.95643701, \"best_metric\": 0.97044845}, {\"run_id\": \"AutoML_feaca0fa-04ae-4c0b-97e6-88c8961212d8_30\", \"run_number\": 35, \"metric\": null, \"status\": \"Completed\", \"run_type\": \"azureml.scriptrun\", \"training_percent\": \"100\", \"start_time\": \"2021-01-16T14:14:24.888127Z\", \"end_time\": \"2021-01-16T14:15:32.413945Z\", \"created_time\": \"2021-01-16T14:14:13.680289Z\", \"created_time_dt\": \"2021-01-16T14:14:13.680289Z\", \"duration\": \"0:01:18\", \"iteration\": \"30\", \"goal\": \"accuracy_max\", \"run_name\": \"VotingEnsemble\", \"run_properties\": \"classification_labels=None,\\n                              estimators=[('1',\\n                                           Pipeline(memory=None,\\n                                                    steps=[('maxabsscaler',\\n                                                            MaxAbsScaler(copy=True\", \"primary_metric\": 0.97356372, \"best_metric\": 0.97356372}, {\"run_id\": \"AutoML_feaca0fa-04ae-4c0b-97e6-88c8961212d8_31\", \"run_number\": 36, \"metric\": null, \"status\": \"Completed\", \"run_type\": \"azureml.scriptrun\", \"training_percent\": \"100\", \"start_time\": \"2021-01-16T14:15:46.829095Z\", \"end_time\": \"2021-01-16T14:17:03.928558Z\", \"created_time\": \"2021-01-16T14:15:33.475678Z\", \"created_time_dt\": \"2021-01-16T14:15:33.475678Z\", \"duration\": \"0:01:30\", \"iteration\": \"31\", \"goal\": \"accuracy_max\", \"run_name\": \"StackEnsemble\", \"run_properties\": \"base_learners=[('1',\\n                                        Pipeline(memory=None,\\n                                                 steps=[('maxabsscaler',\\n                                                         MaxAbsScaler(copy=True\", \"primary_metric\": 0.96421792, \"best_metric\": 0.97356372}], \"children_metrics\": {\"categories\": [0], \"series\": {\"f1_score_micro\": [{\"categories\": [\"0\", \"1\", \"2\", \"3\", \"4\", \"5\", \"6\", \"7\", \"8\", \"9\", \"10\", \"11\", \"12\", \"13\", \"14\", \"15\", \"16\", \"17\", \"18\", \"19\", \"20\", \"21\", \"22\", \"23\", \"24\", \"25\", \"26\", \"27\", \"28\", \"29\", \"30\", \"31\"], \"mode\": \"markers\", \"name\": \"f1_score_micro\", \"stepped\": false, \"type\": \"scatter\", \"data\": [0.9533217416503659, 0.9704484532348041, 0.9377816416721002, 0.9160037672969645, 0.8707889589219735, 0.9159240744765631, 0.9657755560385423, 0.9160037672969645, 0.9284068680721583, 0.9548721292472652, 0.9393102948634354, 0.9533289864522204, 0.9160037672969645, 0.9611026588422806, 0.9626675360428892, 0.9160037672969645, 0.9300007244801854, 0.96111714844599, 0.9533289864522204, 0.9439976816634065, 0.9533289864522206, 0.9642179236397884, 0.9470912120553502, 0.9611099036441354, 0.9611026588422806, 0.9160037672969645, 0.9611099036441354, 0.9564370064478737, 0.9688908208360502, 0.9564370064478737, 0.9735637180323119, 0.9642179236397884]}, {\"categories\": [\"0\", \"1\", \"2\", \"3\", \"4\", \"5\", \"6\", \"7\", \"8\", \"9\", \"10\", \"11\", \"12\", \"13\", \"14\", \"15\", \"16\", \"17\", \"18\", \"19\", \"20\", \"21\", \"22\", \"23\", \"24\", \"25\", \"26\", \"27\", \"28\", \"29\", \"30\", \"31\"], \"mode\": \"lines\", \"name\": \"f1_score_micro_max\", \"stepped\": true, \"type\": \"scatter\", \"data\": [0.9533217416503659, 0.9704484532348041, 0.9704484532348041, 0.9704484532348041, 0.9704484532348041, 0.9704484532348041, 0.9704484532348041, 0.9704484532348041, 0.9704484532348041, 0.9704484532348041, 0.9704484532348041, 0.9704484532348041, 0.9704484532348041, 0.9704484532348041, 0.9704484532348041, 0.9704484532348041, 0.9704484532348041, 0.9704484532348041, 0.9704484532348041, 0.9704484532348041, 0.9704484532348041, 0.9704484532348041, 0.9704484532348041, 0.9704484532348041, 0.9704484532348041, 0.9704484532348041, 0.9704484532348041, 0.9704484532348041, 0.9704484532348041, 0.9704484532348041, 0.9735637180323119, 0.9735637180323119]}], \"weighted_accuracy\": [{\"categories\": [\"0\", \"1\", \"2\", \"3\", \"4\", \"5\", \"6\", \"7\", \"8\", \"9\", \"10\", \"11\", \"12\", \"13\", \"14\", \"15\", \"16\", \"17\", \"18\", \"19\", \"20\", \"21\", \"22\", \"23\", \"24\", \"25\", \"26\", \"27\", \"28\", \"29\", \"30\", \"31\"], \"mode\": \"markers\", \"name\": \"weighted_accuracy\", \"stepped\": false, \"type\": \"scatter\", \"data\": [0.9830439988494534, 0.990948445264712, 0.9922201703849943, 0.9915657454499404, 0.8903117817204222, 0.9330910693203367, 0.9873876788786585, 0.9915657454499404, 0.991105767696137, 0.9862345330455115, 0.9875951843197819, 0.9876681599548708, 0.9915657454499404, 0.9853643640644941, 0.9855663038421838, 0.9915657454499404, 0.9913648746090987, 0.9854335987382501, 0.992255080606574, 0.9943903108151056, 0.992235793342393, 0.9872124063298452, 0.9792741523102046, 0.9899734582906324, 0.9914828627578425, 0.9915657454499404, 0.9853854310326655, 0.9834085042200956, 0.9923117308940516, 0.9879568503434367, 0.9928238615370155, 0.9887294640312895]}, {\"categories\": [\"0\", \"1\", \"2\", \"3\", \"4\", \"5\", \"6\", \"7\", \"8\", \"9\", \"10\", \"11\", \"12\", \"13\", \"14\", \"15\", \"16\", \"17\", \"18\", \"19\", \"20\", \"21\", \"22\", \"23\", \"24\", \"25\", \"26\", \"27\", \"28\", \"29\", \"30\", \"31\"], \"mode\": \"lines\", \"name\": \"weighted_accuracy_max\", \"stepped\": true, \"type\": \"scatter\", \"data\": [0.9830439988494534, 0.990948445264712, 0.9922201703849943, 0.9922201703849943, 0.9922201703849943, 0.9922201703849943, 0.9922201703849943, 0.9922201703849943, 0.9922201703849943, 0.9922201703849943, 0.9922201703849943, 0.9922201703849943, 0.9922201703849943, 0.9922201703849943, 0.9922201703849943, 0.9922201703849943, 0.9922201703849943, 0.9922201703849943, 0.992255080606574, 0.9943903108151056, 0.9943903108151056, 0.9943903108151056, 0.9943903108151056, 0.9943903108151056, 0.9943903108151056, 0.9943903108151056, 0.9943903108151056, 0.9943903108151056, 0.9943903108151056, 0.9943903108151056, 0.9943903108151056, 0.9943903108151056]}], \"norm_macro_recall\": [{\"categories\": [\"0\", \"1\", \"2\", \"3\", \"4\", \"5\", \"6\", \"7\", \"8\", \"9\", \"10\", \"11\", \"12\", \"13\", \"14\", \"15\", \"16\", \"17\", \"18\", \"19\", \"20\", \"21\", \"22\", \"23\", \"24\", \"25\", \"26\", \"27\", \"28\", \"29\", \"30\", \"31\"], \"mode\": \"markers\", \"name\": \"norm_macro_recall\", \"stepped\": false, \"type\": \"scatter\", \"data\": [0.5737893611052668, 0.7089029540796846, 0.27607709750566894, 0.0, 0.5253472544048213, 0.6381941035291551, 0.6911578472933666, 0.0, 0.18582495812395314, 0.566612704646578, 0.36590810249281186, 0.5290047042492073, 0.0, 0.6561413664742348, 0.6662833804770476, 0.0, 0.19042894935752078, 0.6477905003545911, 0.47808012093726376, 0.33240740740740743, 0.4822724259999924, 0.6744911806267, 0.5449682087804586, 0.6052424215583533, 0.5883989449158816, 0.0, 0.6538265516594199, 0.6108965292875455, 0.677305366591081, 0.5683565561010593, 0.7272878338047706, 0.659071658445738]}, {\"categories\": [\"0\", \"1\", \"2\", \"3\", \"4\", \"5\", \"6\", \"7\", \"8\", \"9\", \"10\", \"11\", \"12\", \"13\", \"14\", \"15\", \"16\", \"17\", \"18\", \"19\", \"20\", \"21\", \"22\", \"23\", \"24\", \"25\", \"26\", \"27\", \"28\", \"29\", \"30\", \"31\"], \"mode\": \"lines\", \"name\": \"norm_macro_recall_max\", \"stepped\": true, \"type\": \"scatter\", \"data\": [0.5737893611052668, 0.7089029540796846, 0.7089029540796846, 0.7089029540796846, 0.7089029540796846, 0.7089029540796846, 0.7089029540796846, 0.7089029540796846, 0.7089029540796846, 0.7089029540796846, 0.7089029540796846, 0.7089029540796846, 0.7089029540796846, 0.7089029540796846, 0.7089029540796846, 0.7089029540796846, 0.7089029540796846, 0.7089029540796846, 0.7089029540796846, 0.7089029540796846, 0.7089029540796846, 0.7089029540796846, 0.7089029540796846, 0.7089029540796846, 0.7089029540796846, 0.7089029540796846, 0.7089029540796846, 0.7089029540796846, 0.7089029540796846, 0.7089029540796846, 0.7272878338047706, 0.7272878338047706]}], \"log_loss\": [{\"categories\": [\"0\", \"1\", \"2\", \"3\", \"4\", \"5\", \"6\", \"7\", \"8\", \"9\", \"10\", \"11\", \"12\", \"13\", \"14\", \"15\", \"16\", \"17\", \"18\", \"19\", \"20\", \"21\", \"22\", \"23\", \"24\", \"25\", \"26\", \"27\", \"28\", \"29\", \"30\", \"31\"], \"mode\": \"markers\", \"name\": \"log_loss\", \"stepped\": false, \"type\": \"scatter\", \"data\": [0.20254937263375306, 0.11361835857548815, 0.1672184052545628, 0.2586906217062334, 0.49033468028650457, 0.3908212507240731, 0.1417553875154345, 0.2340897832780038, 0.2573474772801298, 0.15199606421792616, 0.16678629740906484, 0.1290235710828499, 0.2878255733013877, 0.1438119290621856, 0.27700554283687656, 0.27104773929317544, 0.22190665553358468, 0.15975851016492648, 0.1474387781997577, 0.15695159190799426, 0.15681722070703355, 0.14172548586035427, 0.1906336667558581, 0.12325790647044527, 0.1362380005560654, 0.28898005271605126, 0.12083229872069932, 0.1995422775328496, 0.11023891338445281, 0.13800699126472868, 0.1650462768239741, 0.12335117362659766]}, {\"categories\": [\"0\", \"1\", \"2\", \"3\", \"4\", \"5\", \"6\", \"7\", \"8\", \"9\", \"10\", \"11\", \"12\", \"13\", \"14\", \"15\", \"16\", \"17\", \"18\", \"19\", \"20\", \"21\", \"22\", \"23\", \"24\", \"25\", \"26\", \"27\", \"28\", \"29\", \"30\", \"31\"], \"mode\": \"lines\", \"name\": \"log_loss_min\", \"stepped\": true, \"type\": \"scatter\", \"data\": [0.20254937263375306, 0.11361835857548815, 0.11361835857548815, 0.11361835857548815, 0.11361835857548815, 0.11361835857548815, 0.11361835857548815, 0.11361835857548815, 0.11361835857548815, 0.11361835857548815, 0.11361835857548815, 0.11361835857548815, 0.11361835857548815, 0.11361835857548815, 0.11361835857548815, 0.11361835857548815, 0.11361835857548815, 0.11361835857548815, 0.11361835857548815, 0.11361835857548815, 0.11361835857548815, 0.11361835857548815, 0.11361835857548815, 0.11361835857548815, 0.11361835857548815, 0.11361835857548815, 0.11361835857548815, 0.11361835857548815, 0.11023891338445281, 0.11023891338445281, 0.11023891338445281, 0.11023891338445281]}], \"average_precision_score_weighted\": [{\"categories\": [\"0\", \"1\", \"2\", \"3\", \"4\", \"5\", \"6\", \"7\", \"8\", \"9\", \"10\", \"11\", \"12\", \"13\", \"14\", \"15\", \"16\", \"17\", \"18\", \"19\", \"20\", \"21\", \"22\", \"23\", \"24\", \"25\", \"26\", \"27\", \"28\", \"29\", \"30\", \"31\"], \"mode\": \"markers\", \"name\": \"average_precision_score_weighted\", \"stepped\": false, \"type\": \"scatter\", \"data\": [0.966194714829116, 0.9740203496691359, 0.9708259247775352, 0.8978968681578493, 0.9436217563873436, 0.9511083321680266, 0.9679408955168619, 0.951040042887865, 0.8873887609810746, 0.9583927758573205, 0.9700803830436291, 0.9683736013246881, 0.8690792121165244, 0.9668344565793762, 0.9663049896571114, 0.899507328165285, 0.9291768443563488, 0.9480191688056214, 0.9618613044478841, 0.9764041900278654, 0.9660752871115749, 0.9622627823898989, 0.9604417018353805, 0.97052240477732, 0.963606824561439, 0.8462391143939096, 0.9720793853901464, 0.9519252837124768, 0.9772849319636264, 0.9662772083334673, 0.9798323647431255, 0.9783274874295312]}, {\"categories\": [\"0\", \"1\", \"2\", \"3\", \"4\", \"5\", \"6\", \"7\", \"8\", \"9\", \"10\", \"11\", \"12\", \"13\", \"14\", \"15\", \"16\", \"17\", \"18\", \"19\", \"20\", \"21\", \"22\", \"23\", \"24\", \"25\", \"26\", \"27\", \"28\", \"29\", \"30\", \"31\"], \"mode\": \"lines\", \"name\": \"average_precision_score_weighted_max\", \"stepped\": true, \"type\": \"scatter\", \"data\": [0.966194714829116, 0.9740203496691359, 0.9740203496691359, 0.9740203496691359, 0.9740203496691359, 0.9740203496691359, 0.9740203496691359, 0.9740203496691359, 0.9740203496691359, 0.9740203496691359, 0.9740203496691359, 0.9740203496691359, 0.9740203496691359, 0.9740203496691359, 0.9740203496691359, 0.9740203496691359, 0.9740203496691359, 0.9740203496691359, 0.9740203496691359, 0.9764041900278654, 0.9764041900278654, 0.9764041900278654, 0.9764041900278654, 0.9764041900278654, 0.9764041900278654, 0.9764041900278654, 0.9764041900278654, 0.9764041900278654, 0.9772849319636264, 0.9772849319636264, 0.9798323647431255, 0.9798323647431255]}], \"f1_score_weighted\": [{\"categories\": [\"0\", \"1\", \"2\", \"3\", \"4\", \"5\", \"6\", \"7\", \"8\", \"9\", \"10\", \"11\", \"12\", \"13\", \"14\", \"15\", \"16\", \"17\", \"18\", \"19\", \"20\", \"21\", \"22\", \"23\", \"24\", \"25\", \"26\", \"27\", \"28\", \"29\", \"30\", \"31\"], \"mode\": \"markers\", \"name\": \"f1_score_weighted\", \"stepped\": false, \"type\": \"scatter\", \"data\": [0.94997855725976, 0.9687680013776894, 0.9217195121315441, 0.8758639978814943, 0.888028188344677, 0.9239805675329292, 0.9641455317046265, 0.8758639978814943, 0.8988518277629761, 0.9511286203956458, 0.9218846171648414, 0.9484719902749167, 0.8758639978814943, 0.9591537361968593, 0.9607635423635882, 0.8758639978814943, 0.9052495007444209, 0.9588981747741466, 0.9465003184096722, 0.930376541258945, 0.9463132174976404, 0.9623693252943956, 0.9434306570641242, 0.957767471916263, 0.9572955526650384, 0.8758639978814943, 0.9590777580944417, 0.9541191990282987, 0.9667982095186879, 0.9524358720034437, 0.971957258969308, 0.9618510403840069]}, {\"categories\": [\"0\", \"1\", \"2\", \"3\", \"4\", \"5\", \"6\", \"7\", \"8\", \"9\", \"10\", \"11\", \"12\", \"13\", \"14\", \"15\", \"16\", \"17\", \"18\", \"19\", \"20\", \"21\", \"22\", \"23\", \"24\", \"25\", \"26\", \"27\", \"28\", \"29\", \"30\", \"31\"], \"mode\": \"lines\", \"name\": \"f1_score_weighted_max\", \"stepped\": true, \"type\": \"scatter\", \"data\": [0.94997855725976, 0.9687680013776894, 0.9687680013776894, 0.9687680013776894, 0.9687680013776894, 0.9687680013776894, 0.9687680013776894, 0.9687680013776894, 0.9687680013776894, 0.9687680013776894, 0.9687680013776894, 0.9687680013776894, 0.9687680013776894, 0.9687680013776894, 0.9687680013776894, 0.9687680013776894, 0.9687680013776894, 0.9687680013776894, 0.9687680013776894, 0.9687680013776894, 0.9687680013776894, 0.9687680013776894, 0.9687680013776894, 0.9687680013776894, 0.9687680013776894, 0.9687680013776894, 0.9687680013776894, 0.9687680013776894, 0.9687680013776894, 0.9687680013776894, 0.971957258969308, 0.971957258969308]}], \"recall_score_macro\": [{\"categories\": [\"0\", \"1\", \"2\", \"3\", \"4\", \"5\", \"6\", \"7\", \"8\", \"9\", \"10\", \"11\", \"12\", \"13\", \"14\", \"15\", \"16\", \"17\", \"18\", \"19\", \"20\", \"21\", \"22\", \"23\", \"24\", \"25\", \"26\", \"27\", \"28\", \"29\", \"30\", \"31\"], \"mode\": \"markers\", \"name\": \"recall_score_macro\", \"stepped\": false, \"type\": \"scatter\", \"data\": [0.7868946805526335, 0.8544514770398423, 0.6380385487528345, 0.5, 0.7626736272024107, 0.8190970517645776, 0.8455789236466833, 0.5, 0.5929124790619765, 0.7833063523232889, 0.6829540512464058, 0.7645023521246036, 0.5, 0.8280706832371174, 0.8331416902385239, 0.5, 0.5952144746787603, 0.8238952501772956, 0.7390400604686319, 0.6662037037037037, 0.7411362129999962, 0.83724559031335, 0.7724841043902293, 0.8026212107791766, 0.7941994724579408, 0.5, 0.82691327582971, 0.8054482646437727, 0.8386526832955404, 0.7841782780505296, 0.8636439169023852, 0.829535829222869]}, {\"categories\": [\"0\", \"1\", \"2\", \"3\", \"4\", \"5\", \"6\", \"7\", \"8\", \"9\", \"10\", \"11\", \"12\", \"13\", \"14\", \"15\", \"16\", \"17\", \"18\", \"19\", \"20\", \"21\", \"22\", \"23\", \"24\", \"25\", \"26\", \"27\", \"28\", \"29\", \"30\", \"31\"], \"mode\": \"lines\", \"name\": \"recall_score_macro_max\", \"stepped\": true, \"type\": \"scatter\", \"data\": [0.7868946805526335, 0.8544514770398423, 0.8544514770398423, 0.8544514770398423, 0.8544514770398423, 0.8544514770398423, 0.8544514770398423, 0.8544514770398423, 0.8544514770398423, 0.8544514770398423, 0.8544514770398423, 0.8544514770398423, 0.8544514770398423, 0.8544514770398423, 0.8544514770398423, 0.8544514770398423, 0.8544514770398423, 0.8544514770398423, 0.8544514770398423, 0.8544514770398423, 0.8544514770398423, 0.8544514770398423, 0.8544514770398423, 0.8544514770398423, 0.8544514770398423, 0.8544514770398423, 0.8544514770398423, 0.8544514770398423, 0.8544514770398423, 0.8544514770398423, 0.8636439169023852, 0.8636439169023852]}], \"AUC_macro\": [{\"categories\": [\"0\", \"1\", \"2\", \"3\", \"4\", \"5\", \"6\", \"7\", \"8\", \"9\", \"10\", \"11\", \"12\", \"13\", \"14\", \"15\", \"16\", \"17\", \"18\", \"19\", \"20\", \"21\", \"22\", \"23\", \"24\", \"25\", \"26\", \"27\", \"28\", \"29\", \"30\", \"31\"], \"mode\": \"markers\", \"name\": \"AUC_macro\", \"stepped\": false, \"type\": \"scatter\", \"data\": [0.90173646291709, 0.9329149996814534, 0.9316436949966342, 0.6998319006178629, 0.8628319315718942, 0.8681199927057343, 0.8896909629577943, 0.8708042348795821, 0.6721638828791864, 0.8683264077358999, 0.9268673724303308, 0.9219832481911471, 0.5826311746097531, 0.8861690960784552, 0.907933638912863, 0.7061829530001112, 0.7919019980680456, 0.8448676629988195, 0.8792124672775165, 0.933837087190008, 0.9014488146015628, 0.8914591123969663, 0.8738714069094802, 0.9249953510216534, 0.9009301994814054, 0.5, 0.9320109114233454, 0.8419843889480364, 0.9434917450434099, 0.9031643091481126, 0.947596147803092, 0.9406256244403165]}, {\"categories\": [\"0\", \"1\", \"2\", \"3\", \"4\", \"5\", \"6\", \"7\", \"8\", \"9\", \"10\", \"11\", \"12\", \"13\", \"14\", \"15\", \"16\", \"17\", \"18\", \"19\", \"20\", \"21\", \"22\", \"23\", \"24\", \"25\", \"26\", \"27\", \"28\", \"29\", \"30\", \"31\"], \"mode\": \"lines\", \"name\": \"AUC_macro_max\", \"stepped\": true, \"type\": \"scatter\", \"data\": [0.90173646291709, 0.9329149996814534, 0.9329149996814534, 0.9329149996814534, 0.9329149996814534, 0.9329149996814534, 0.9329149996814534, 0.9329149996814534, 0.9329149996814534, 0.9329149996814534, 0.9329149996814534, 0.9329149996814534, 0.9329149996814534, 0.9329149996814534, 0.9329149996814534, 0.9329149996814534, 0.9329149996814534, 0.9329149996814534, 0.9329149996814534, 0.933837087190008, 0.933837087190008, 0.933837087190008, 0.933837087190008, 0.933837087190008, 0.933837087190008, 0.933837087190008, 0.933837087190008, 0.933837087190008, 0.9434917450434099, 0.9434917450434099, 0.947596147803092, 0.947596147803092]}], \"f1_score_macro\": [{\"categories\": [\"0\", \"1\", \"2\", \"3\", \"4\", \"5\", \"6\", \"7\", \"8\", \"9\", \"10\", \"11\", \"12\", \"13\", \"14\", \"15\", \"16\", \"17\", \"18\", \"19\", \"20\", \"21\", \"22\", \"23\", \"24\", \"25\", \"26\", \"27\", \"28\", \"29\", \"30\", \"31\"], \"mode\": \"markers\", \"name\": \"f1_score_macro\", \"stepped\": false, \"type\": \"scatter\", \"data\": [0.8274848245329697, 0.8918762001244965, 0.6968754665214146, 0.47807176835621723, 0.7061687672747178, 0.7887091382031607, 0.8782579593459404, 0.47807176835621723, 0.5965972775403574, 0.8313158031966781, 0.7068232643374807, 0.8174337388480505, 0.47807176835621723, 0.8618744890599332, 0.8652722154297976, 0.47807176835621723, 0.6239584146196089, 0.8576590821589205, 0.8049886405206106, 0.7319211529962036, 0.805131269353755, 0.872387624386899, 0.8084987011240804, 0.8524777208342768, 0.8500680399590603, 0.47807176835621723, 0.860547295448387, 0.8425963686765819, 0.8845135972126738, 0.8338453283665697, 0.9015028308037589, 0.8693728026234785]}, {\"categories\": [\"0\", \"1\", \"2\", \"3\", \"4\", \"5\", \"6\", \"7\", \"8\", \"9\", \"10\", \"11\", \"12\", \"13\", \"14\", \"15\", \"16\", \"17\", \"18\", \"19\", \"20\", \"21\", \"22\", \"23\", \"24\", \"25\", \"26\", \"27\", \"28\", \"29\", \"30\", \"31\"], \"mode\": \"lines\", \"name\": \"f1_score_macro_max\", \"stepped\": true, \"type\": \"scatter\", \"data\": [0.8274848245329697, 0.8918762001244965, 0.8918762001244965, 0.8918762001244965, 0.8918762001244965, 0.8918762001244965, 0.8918762001244965, 0.8918762001244965, 0.8918762001244965, 0.8918762001244965, 0.8918762001244965, 0.8918762001244965, 0.8918762001244965, 0.8918762001244965, 0.8918762001244965, 0.8918762001244965, 0.8918762001244965, 0.8918762001244965, 0.8918762001244965, 0.8918762001244965, 0.8918762001244965, 0.8918762001244965, 0.8918762001244965, 0.8918762001244965, 0.8918762001244965, 0.8918762001244965, 0.8918762001244965, 0.8918762001244965, 0.8918762001244965, 0.8918762001244965, 0.9015028308037589, 0.9015028308037589]}], \"average_precision_score_macro\": [{\"categories\": [\"0\", \"1\", \"2\", \"3\", \"4\", \"5\", \"6\", \"7\", \"8\", \"9\", \"10\", \"11\", \"12\", \"13\", \"14\", \"15\", \"16\", \"17\", \"18\", \"19\", \"20\", \"21\", \"22\", \"23\", \"24\", \"25\", \"26\", \"27\", \"28\", \"29\", \"30\", \"31\"], \"mode\": \"markers\", \"name\": \"average_precision_score_macro\", \"stepped\": false, \"type\": \"scatter\", \"data\": [0.8672193875071565, 0.913805950734328, 0.8723849962643605, 0.6162295769339644, 0.769828969905829, 0.8211244730729441, 0.8895800000987958, 0.7894353673568267, 0.6116634019691071, 0.8546135016330059, 0.8650618918281211, 0.8936459066435241, 0.5351760533833781, 0.8840958748891667, 0.877564491733802, 0.6398450970940238, 0.7274896333680828, 0.8224341195899335, 0.8645174862526134, 0.901363220988124, 0.87840063878528, 0.8825456648719731, 0.8465822301474889, 0.9011800412814925, 0.8763745649960644, 0.5, 0.8985637572812144, 0.8429426364557706, 0.9221533964200465, 0.8813594680014201, 0.9179451772182171, 0.9135835901901007]}, {\"categories\": [\"0\", \"1\", \"2\", \"3\", \"4\", \"5\", \"6\", \"7\", \"8\", \"9\", \"10\", \"11\", \"12\", \"13\", \"14\", \"15\", \"16\", \"17\", \"18\", \"19\", \"20\", \"21\", \"22\", \"23\", \"24\", \"25\", \"26\", \"27\", \"28\", \"29\", \"30\", \"31\"], \"mode\": \"lines\", \"name\": \"average_precision_score_macro_max\", \"stepped\": true, \"type\": \"scatter\", \"data\": [0.8672193875071565, 0.913805950734328, 0.913805950734328, 0.913805950734328, 0.913805950734328, 0.913805950734328, 0.913805950734328, 0.913805950734328, 0.913805950734328, 0.913805950734328, 0.913805950734328, 0.913805950734328, 0.913805950734328, 0.913805950734328, 0.913805950734328, 0.913805950734328, 0.913805950734328, 0.913805950734328, 0.913805950734328, 0.913805950734328, 0.913805950734328, 0.913805950734328, 0.913805950734328, 0.913805950734328, 0.913805950734328, 0.913805950734328, 0.913805950734328, 0.913805950734328, 0.9221533964200465, 0.9221533964200465, 0.9221533964200465, 0.9221533964200465]}], \"recall_score_weighted\": [{\"categories\": [\"0\", \"1\", \"2\", \"3\", \"4\", \"5\", \"6\", \"7\", \"8\", \"9\", \"10\", \"11\", \"12\", \"13\", \"14\", \"15\", \"16\", \"17\", \"18\", \"19\", \"20\", \"21\", \"22\", \"23\", \"24\", \"25\", \"26\", \"27\", \"28\", \"29\", \"30\", \"31\"], \"mode\": \"markers\", \"name\": \"recall_score_weighted\", \"stepped\": false, \"type\": \"scatter\", \"data\": [0.9533217416503659, 0.9704484532348041, 0.9377816416721002, 0.9160037672969645, 0.8707889589219735, 0.9159240744765631, 0.9657755560385423, 0.9160037672969645, 0.9284068680721583, 0.9548721292472652, 0.9393102948634354, 0.9533289864522204, 0.9160037672969645, 0.9611026588422806, 0.9626675360428892, 0.9160037672969645, 0.9300007244801854, 0.96111714844599, 0.9533289864522204, 0.9439976816634065, 0.9533289864522206, 0.9642179236397884, 0.9470912120553502, 0.9611099036441354, 0.9611026588422806, 0.9160037672969645, 0.9611099036441354, 0.9564370064478737, 0.9688908208360502, 0.9564370064478737, 0.9735637180323119, 0.9642179236397884]}, {\"categories\": [\"0\", \"1\", \"2\", \"3\", \"4\", \"5\", \"6\", \"7\", \"8\", \"9\", \"10\", \"11\", \"12\", \"13\", \"14\", \"15\", \"16\", \"17\", \"18\", \"19\", \"20\", \"21\", \"22\", \"23\", \"24\", \"25\", \"26\", \"27\", \"28\", \"29\", \"30\", \"31\"], \"mode\": \"lines\", \"name\": \"recall_score_weighted_max\", \"stepped\": true, \"type\": \"scatter\", \"data\": [0.9533217416503659, 0.9704484532348041, 0.9704484532348041, 0.9704484532348041, 0.9704484532348041, 0.9704484532348041, 0.9704484532348041, 0.9704484532348041, 0.9704484532348041, 0.9704484532348041, 0.9704484532348041, 0.9704484532348041, 0.9704484532348041, 0.9704484532348041, 0.9704484532348041, 0.9704484532348041, 0.9704484532348041, 0.9704484532348041, 0.9704484532348041, 0.9704484532348041, 0.9704484532348041, 0.9704484532348041, 0.9704484532348041, 0.9704484532348041, 0.9704484532348041, 0.9704484532348041, 0.9704484532348041, 0.9704484532348041, 0.9704484532348041, 0.9704484532348041, 0.9735637180323119, 0.9735637180323119]}], \"precision_score_micro\": [{\"categories\": [\"0\", \"1\", \"2\", \"3\", \"4\", \"5\", \"6\", \"7\", \"8\", \"9\", \"10\", \"11\", \"12\", \"13\", \"14\", \"15\", \"16\", \"17\", \"18\", \"19\", \"20\", \"21\", \"22\", \"23\", \"24\", \"25\", \"26\", \"27\", \"28\", \"29\", \"30\", \"31\"], \"mode\": \"markers\", \"name\": \"precision_score_micro\", \"stepped\": false, \"type\": \"scatter\", \"data\": [0.9533217416503659, 0.9704484532348041, 0.9377816416721002, 0.9160037672969645, 0.8707889589219735, 0.9159240744765631, 0.9657755560385423, 0.9160037672969645, 0.9284068680721583, 0.9548721292472652, 0.9393102948634354, 0.9533289864522204, 0.9160037672969645, 0.9611026588422806, 0.9626675360428892, 0.9160037672969645, 0.9300007244801854, 0.96111714844599, 0.9533289864522204, 0.9439976816634065, 0.9533289864522206, 0.9642179236397884, 0.9470912120553502, 0.9611099036441354, 0.9611026588422806, 0.9160037672969645, 0.9611099036441354, 0.9564370064478737, 0.9688908208360502, 0.9564370064478737, 0.9735637180323119, 0.9642179236397884]}, {\"categories\": [\"0\", \"1\", \"2\", \"3\", \"4\", \"5\", \"6\", \"7\", \"8\", \"9\", \"10\", \"11\", \"12\", \"13\", \"14\", \"15\", \"16\", \"17\", \"18\", \"19\", \"20\", \"21\", \"22\", \"23\", \"24\", \"25\", \"26\", \"27\", \"28\", \"29\", \"30\", \"31\"], \"mode\": \"lines\", \"name\": \"precision_score_micro_max\", \"stepped\": true, \"type\": \"scatter\", \"data\": [0.9533217416503659, 0.9704484532348041, 0.9704484532348041, 0.9704484532348041, 0.9704484532348041, 0.9704484532348041, 0.9704484532348041, 0.9704484532348041, 0.9704484532348041, 0.9704484532348041, 0.9704484532348041, 0.9704484532348041, 0.9704484532348041, 0.9704484532348041, 0.9704484532348041, 0.9704484532348041, 0.9704484532348041, 0.9704484532348041, 0.9704484532348041, 0.9704484532348041, 0.9704484532348041, 0.9704484532348041, 0.9704484532348041, 0.9704484532348041, 0.9704484532348041, 0.9704484532348041, 0.9704484532348041, 0.9704484532348041, 0.9704484532348041, 0.9704484532348041, 0.9735637180323119, 0.9735637180323119]}], \"matthews_correlation\": [{\"categories\": [\"0\", \"1\", \"2\", \"3\", \"4\", \"5\", \"6\", \"7\", \"8\", \"9\", \"10\", \"11\", \"12\", \"13\", \"14\", \"15\", \"16\", \"17\", \"18\", \"19\", \"20\", \"21\", \"22\", \"23\", \"24\", \"25\", \"26\", \"27\", \"28\", \"29\", \"30\", \"31\"], \"mode\": \"markers\", \"name\": \"matthews_correlation\", \"stepped\": false, \"type\": \"scatter\", \"data\": [0.6739570078673282, 0.7937128936064809, 0.49315415780310157, 0.0, 0.4417758007977964, 0.60062737810376, 0.7624791181229521, 0.0, 0.2315867151047548, 0.6790866746218044, 0.4408377663448572, 0.6562756212335827, 0.0, 0.7305179976914234, 0.7425937220815829, 0.0, 0.32701999397691817, 0.7243998719313067, 0.6513077112808219, 0.5555736562888761, 0.6516222922598309, 0.7513124441466132, 0.6266895946623342, 0.7205288928650249, 0.720563260198018, 0.0, 0.7293786364027653, 0.6987422095779152, 0.7829766790582925, 0.6851913330743242, 0.8129931305838441, 0.7537124332832023]}, {\"categories\": [\"0\", \"1\", \"2\", \"3\", \"4\", \"5\", \"6\", \"7\", \"8\", \"9\", \"10\", \"11\", \"12\", \"13\", \"14\", \"15\", \"16\", \"17\", \"18\", \"19\", \"20\", \"21\", \"22\", \"23\", \"24\", \"25\", \"26\", \"27\", \"28\", \"29\", \"30\", \"31\"], \"mode\": \"lines\", \"name\": \"matthews_correlation_max\", \"stepped\": true, \"type\": \"scatter\", \"data\": [0.6739570078673282, 0.7937128936064809, 0.7937128936064809, 0.7937128936064809, 0.7937128936064809, 0.7937128936064809, 0.7937128936064809, 0.7937128936064809, 0.7937128936064809, 0.7937128936064809, 0.7937128936064809, 0.7937128936064809, 0.7937128936064809, 0.7937128936064809, 0.7937128936064809, 0.7937128936064809, 0.7937128936064809, 0.7937128936064809, 0.7937128936064809, 0.7937128936064809, 0.7937128936064809, 0.7937128936064809, 0.7937128936064809, 0.7937128936064809, 0.7937128936064809, 0.7937128936064809, 0.7937128936064809, 0.7937128936064809, 0.7937128936064809, 0.7937128936064809, 0.8129931305838441, 0.8129931305838441]}], \"balanced_accuracy\": [{\"categories\": [\"0\", \"1\", \"2\", \"3\", \"4\", \"5\", \"6\", \"7\", \"8\", \"9\", \"10\", \"11\", \"12\", \"13\", \"14\", \"15\", \"16\", \"17\", \"18\", \"19\", \"20\", \"21\", \"22\", \"23\", \"24\", \"25\", \"26\", \"27\", \"28\", \"29\", \"30\", \"31\"], \"mode\": \"markers\", \"name\": \"balanced_accuracy\", \"stepped\": false, \"type\": \"scatter\", \"data\": [0.7868946805526335, 0.8544514770398423, 0.6380385487528345, 0.5, 0.7626736272024107, 0.8190970517645776, 0.8455789236466833, 0.5, 0.5929124790619765, 0.7833063523232889, 0.6829540512464058, 0.7645023521246036, 0.5, 0.8280706832371174, 0.8331416902385239, 0.5, 0.5952144746787603, 0.8238952501772956, 0.7390400604686319, 0.6662037037037037, 0.7411362129999962, 0.83724559031335, 0.7724841043902293, 0.8026212107791766, 0.7941994724579408, 0.5, 0.82691327582971, 0.8054482646437727, 0.8386526832955404, 0.7841782780505296, 0.8636439169023852, 0.829535829222869]}, {\"categories\": [\"0\", \"1\", \"2\", \"3\", \"4\", \"5\", \"6\", \"7\", \"8\", \"9\", \"10\", \"11\", \"12\", \"13\", \"14\", \"15\", \"16\", \"17\", \"18\", \"19\", \"20\", \"21\", \"22\", \"23\", \"24\", \"25\", \"26\", \"27\", \"28\", \"29\", \"30\", \"31\"], \"mode\": \"lines\", \"name\": \"balanced_accuracy_max\", \"stepped\": true, \"type\": \"scatter\", \"data\": [0.7868946805526335, 0.8544514770398423, 0.8544514770398423, 0.8544514770398423, 0.8544514770398423, 0.8544514770398423, 0.8544514770398423, 0.8544514770398423, 0.8544514770398423, 0.8544514770398423, 0.8544514770398423, 0.8544514770398423, 0.8544514770398423, 0.8544514770398423, 0.8544514770398423, 0.8544514770398423, 0.8544514770398423, 0.8544514770398423, 0.8544514770398423, 0.8544514770398423, 0.8544514770398423, 0.8544514770398423, 0.8544514770398423, 0.8544514770398423, 0.8544514770398423, 0.8544514770398423, 0.8544514770398423, 0.8544514770398423, 0.8544514770398423, 0.8544514770398423, 0.8636439169023852, 0.8636439169023852]}], \"AUC_micro\": [{\"categories\": [\"0\", \"1\", \"2\", \"3\", \"4\", \"5\", \"6\", \"7\", \"8\", \"9\", \"10\", \"11\", \"12\", \"13\", \"14\", \"15\", \"16\", \"17\", \"18\", \"19\", \"20\", \"21\", \"22\", \"23\", \"24\", \"25\", \"26\", \"27\", \"28\", \"29\", \"30\", \"31\"], \"mode\": \"markers\", \"name\": \"AUC_micro\", \"stepped\": false, \"type\": \"scatter\", \"data\": [0.9807542874827129, 0.9873229452542871, 0.9830928470091999, 0.9452861055077139, 0.9354716908462125, 0.9515099138602351, 0.9806537708563807, 0.9724663130491636, 0.9420315328229284, 0.9768483847516651, 0.9828605886762881, 0.9848193577704389, 0.9284101439004083, 0.9799802333903234, 0.9828425861073673, 0.9461604055501828, 0.9603978789752149, 0.9722760714177797, 0.9783013970783939, 0.9841398926676542, 0.9816451373546565, 0.9807304923789992, 0.9770064379535786, 0.9859309317657604, 0.9813910093567854, 0.9160037672969645, 0.9868222716577731, 0.9715964205104702, 0.9888521216900598, 0.9818256514893186, 0.9894736277481612, 0.9887232675117654]}, {\"categories\": [\"0\", \"1\", \"2\", \"3\", \"4\", \"5\", \"6\", \"7\", \"8\", \"9\", \"10\", \"11\", \"12\", \"13\", \"14\", \"15\", \"16\", \"17\", \"18\", \"19\", \"20\", \"21\", \"22\", \"23\", \"24\", \"25\", \"26\", \"27\", \"28\", \"29\", \"30\", \"31\"], \"mode\": \"lines\", \"name\": \"AUC_micro_max\", \"stepped\": true, \"type\": \"scatter\", \"data\": [0.9807542874827129, 0.9873229452542871, 0.9873229452542871, 0.9873229452542871, 0.9873229452542871, 0.9873229452542871, 0.9873229452542871, 0.9873229452542871, 0.9873229452542871, 0.9873229452542871, 0.9873229452542871, 0.9873229452542871, 0.9873229452542871, 0.9873229452542871, 0.9873229452542871, 0.9873229452542871, 0.9873229452542871, 0.9873229452542871, 0.9873229452542871, 0.9873229452542871, 0.9873229452542871, 0.9873229452542871, 0.9873229452542871, 0.9873229452542871, 0.9873229452542871, 0.9873229452542871, 0.9873229452542871, 0.9873229452542871, 0.9888521216900598, 0.9888521216900598, 0.9894736277481612, 0.9894736277481612]}], \"recall_score_micro\": [{\"categories\": [\"0\", \"1\", \"2\", \"3\", \"4\", \"5\", \"6\", \"7\", \"8\", \"9\", \"10\", \"11\", \"12\", \"13\", \"14\", \"15\", \"16\", \"17\", \"18\", \"19\", \"20\", \"21\", \"22\", \"23\", \"24\", \"25\", \"26\", \"27\", \"28\", \"29\", \"30\", \"31\"], \"mode\": \"markers\", \"name\": \"recall_score_micro\", \"stepped\": false, \"type\": \"scatter\", \"data\": [0.9533217416503659, 0.9704484532348041, 0.9377816416721002, 0.9160037672969645, 0.8707889589219735, 0.9159240744765631, 0.9657755560385423, 0.9160037672969645, 0.9284068680721583, 0.9548721292472652, 0.9393102948634354, 0.9533289864522204, 0.9160037672969645, 0.9611026588422806, 0.9626675360428892, 0.9160037672969645, 0.9300007244801854, 0.96111714844599, 0.9533289864522204, 0.9439976816634065, 0.9533289864522206, 0.9642179236397884, 0.9470912120553502, 0.9611099036441354, 0.9611026588422806, 0.9160037672969645, 0.9611099036441354, 0.9564370064478737, 0.9688908208360502, 0.9564370064478737, 0.9735637180323119, 0.9642179236397884]}, {\"categories\": [\"0\", \"1\", \"2\", \"3\", \"4\", \"5\", \"6\", \"7\", \"8\", \"9\", \"10\", \"11\", \"12\", \"13\", \"14\", \"15\", \"16\", \"17\", \"18\", \"19\", \"20\", \"21\", \"22\", \"23\", \"24\", \"25\", \"26\", \"27\", \"28\", \"29\", \"30\", \"31\"], \"mode\": \"lines\", \"name\": \"recall_score_micro_max\", \"stepped\": true, \"type\": \"scatter\", \"data\": [0.9533217416503659, 0.9704484532348041, 0.9704484532348041, 0.9704484532348041, 0.9704484532348041, 0.9704484532348041, 0.9704484532348041, 0.9704484532348041, 0.9704484532348041, 0.9704484532348041, 0.9704484532348041, 0.9704484532348041, 0.9704484532348041, 0.9704484532348041, 0.9704484532348041, 0.9704484532348041, 0.9704484532348041, 0.9704484532348041, 0.9704484532348041, 0.9704484532348041, 0.9704484532348041, 0.9704484532348041, 0.9704484532348041, 0.9704484532348041, 0.9704484532348041, 0.9704484532348041, 0.9704484532348041, 0.9704484532348041, 0.9704484532348041, 0.9704484532348041, 0.9735637180323119, 0.9735637180323119]}], \"average_precision_score_micro\": [{\"categories\": [\"0\", \"1\", \"2\", \"3\", \"4\", \"5\", \"6\", \"7\", \"8\", \"9\", \"10\", \"11\", \"12\", \"13\", \"14\", \"15\", \"16\", \"17\", \"18\", \"19\", \"20\", \"21\", \"22\", \"23\", \"24\", \"25\", \"26\", \"27\", \"28\", \"29\", \"30\", \"31\"], \"mode\": \"markers\", \"name\": \"average_precision_score_micro\", \"stepped\": false, \"type\": \"scatter\", \"data\": [0.9790665965073262, 0.9817545467264958, 0.9815117889619778, 0.9389971362110745, 0.9315144401947671, 0.9468073857784329, 0.9770304304497112, 0.972499861369946, 0.9279288360262913, 0.9719683839518029, 0.9828013623342061, 0.9782322976826313, 0.9163382087161193, 0.9766405484284731, 0.9763783335960629, 0.937006621466586, 0.957887485957397, 0.9648221424397043, 0.9740834501112475, 0.9832792417593478, 0.974579348543727, 0.9726280035893007, 0.9751109169404143, 0.979624037832616, 0.9748883328981931, 0.8811214408454372, 0.9819271932014542, 0.9649801764646209, 0.9845119384050157, 0.9770973739471415, 0.9879848897530924, 0.9873171106120533]}, {\"categories\": [\"0\", \"1\", \"2\", \"3\", \"4\", \"5\", \"6\", \"7\", \"8\", \"9\", \"10\", \"11\", \"12\", \"13\", \"14\", \"15\", \"16\", \"17\", \"18\", \"19\", \"20\", \"21\", \"22\", \"23\", \"24\", \"25\", \"26\", \"27\", \"28\", \"29\", \"30\", \"31\"], \"mode\": \"lines\", \"name\": \"average_precision_score_micro_max\", \"stepped\": true, \"type\": \"scatter\", \"data\": [0.9790665965073262, 0.9817545467264958, 0.9817545467264958, 0.9817545467264958, 0.9817545467264958, 0.9817545467264958, 0.9817545467264958, 0.9817545467264958, 0.9817545467264958, 0.9817545467264958, 0.9828013623342061, 0.9828013623342061, 0.9828013623342061, 0.9828013623342061, 0.9828013623342061, 0.9828013623342061, 0.9828013623342061, 0.9828013623342061, 0.9828013623342061, 0.9832792417593478, 0.9832792417593478, 0.9832792417593478, 0.9832792417593478, 0.9832792417593478, 0.9832792417593478, 0.9832792417593478, 0.9832792417593478, 0.9832792417593478, 0.9845119384050157, 0.9845119384050157, 0.9879848897530924, 0.9879848897530924]}], \"AUC_weighted\": [{\"categories\": [\"0\", \"1\", \"2\", \"3\", \"4\", \"5\", \"6\", \"7\", \"8\", \"9\", \"10\", \"11\", \"12\", \"13\", \"14\", \"15\", \"16\", \"17\", \"18\", \"19\", \"20\", \"21\", \"22\", \"23\", \"24\", \"25\", \"26\", \"27\", \"28\", \"29\", \"30\", \"31\"], \"mode\": \"markers\", \"name\": \"AUC_weighted\", \"stepped\": false, \"type\": \"scatter\", \"data\": [0.90173646291709, 0.9329149996814534, 0.9316436949966342, 0.6998319006178629, 0.8628319315718942, 0.8681199927057343, 0.8896909629577943, 0.8708042348795823, 0.6721638828791862, 0.8683264077359, 0.9268673724303308, 0.9219832481911471, 0.5826311746097531, 0.8861690960784551, 0.907933638912863, 0.7061829530001112, 0.7919019980680454, 0.8448676629988195, 0.8792124672775165, 0.933837087190008, 0.9014488146015628, 0.8914591123969663, 0.8738714069094803, 0.9249953510216532, 0.9009301994814054, 0.5, 0.9320109114233456, 0.8419843889480364, 0.9434917450434098, 0.9031643091481126, 0.9475961478030919, 0.9406256244403165]}, {\"categories\": [\"0\", \"1\", \"2\", \"3\", \"4\", \"5\", \"6\", \"7\", \"8\", \"9\", \"10\", \"11\", \"12\", \"13\", \"14\", \"15\", \"16\", \"17\", \"18\", \"19\", \"20\", \"21\", \"22\", \"23\", \"24\", \"25\", \"26\", \"27\", \"28\", \"29\", \"30\", \"31\"], \"mode\": \"lines\", \"name\": \"AUC_weighted_max\", \"stepped\": true, \"type\": \"scatter\", \"data\": [0.90173646291709, 0.9329149996814534, 0.9329149996814534, 0.9329149996814534, 0.9329149996814534, 0.9329149996814534, 0.9329149996814534, 0.9329149996814534, 0.9329149996814534, 0.9329149996814534, 0.9329149996814534, 0.9329149996814534, 0.9329149996814534, 0.9329149996814534, 0.9329149996814534, 0.9329149996814534, 0.9329149996814534, 0.9329149996814534, 0.9329149996814534, 0.933837087190008, 0.933837087190008, 0.933837087190008, 0.933837087190008, 0.933837087190008, 0.933837087190008, 0.933837087190008, 0.933837087190008, 0.933837087190008, 0.9434917450434098, 0.9434917450434098, 0.9475961478030919, 0.9475961478030919]}], \"accuracy\": [{\"categories\": [\"0\", \"1\", \"2\", \"3\", \"4\", \"5\", \"6\", \"7\", \"8\", \"9\", \"10\", \"11\", \"12\", \"13\", \"14\", \"15\", \"16\", \"17\", \"18\", \"19\", \"20\", \"21\", \"22\", \"23\", \"24\", \"25\", \"26\", \"27\", \"28\", \"29\", \"30\", \"31\"], \"mode\": \"markers\", \"name\": \"accuracy\", \"stepped\": false, \"type\": \"scatter\", \"data\": [0.9533217416503659, 0.9704484532348041, 0.9377816416721002, 0.9160037672969645, 0.8707889589219735, 0.9159240744765631, 0.9657755560385423, 0.9160037672969645, 0.9284068680721583, 0.9548721292472652, 0.9393102948634354, 0.9533289864522204, 0.9160037672969645, 0.9611026588422806, 0.9626675360428892, 0.9160037672969645, 0.9300007244801854, 0.96111714844599, 0.9533289864522204, 0.9439976816634065, 0.9533289864522206, 0.9642179236397884, 0.9470912120553502, 0.9611099036441354, 0.9611026588422806, 0.9160037672969645, 0.9611099036441354, 0.9564370064478737, 0.9688908208360502, 0.9564370064478737, 0.9735637180323119, 0.9642179236397884]}, {\"categories\": [\"0\", \"1\", \"2\", \"3\", \"4\", \"5\", \"6\", \"7\", \"8\", \"9\", \"10\", \"11\", \"12\", \"13\", \"14\", \"15\", \"16\", \"17\", \"18\", \"19\", \"20\", \"21\", \"22\", \"23\", \"24\", \"25\", \"26\", \"27\", \"28\", \"29\", \"30\", \"31\"], \"mode\": \"lines\", \"name\": \"accuracy_max\", \"stepped\": true, \"type\": \"scatter\", \"data\": [0.9533217416503659, 0.9704484532348041, 0.9704484532348041, 0.9704484532348041, 0.9704484532348041, 0.9704484532348041, 0.9704484532348041, 0.9704484532348041, 0.9704484532348041, 0.9704484532348041, 0.9704484532348041, 0.9704484532348041, 0.9704484532348041, 0.9704484532348041, 0.9704484532348041, 0.9704484532348041, 0.9704484532348041, 0.9704484532348041, 0.9704484532348041, 0.9704484532348041, 0.9704484532348041, 0.9704484532348041, 0.9704484532348041, 0.9704484532348041, 0.9704484532348041, 0.9704484532348041, 0.9704484532348041, 0.9704484532348041, 0.9704484532348041, 0.9704484532348041, 0.9735637180323119, 0.9735637180323119]}], \"precision_score_weighted\": [{\"categories\": [\"0\", \"1\", \"2\", \"3\", \"4\", \"5\", \"6\", \"7\", \"8\", \"9\", \"10\", \"11\", \"12\", \"13\", \"14\", \"15\", \"16\", \"17\", \"18\", \"19\", \"20\", \"21\", \"22\", \"23\", \"24\", \"25\", \"26\", \"27\", \"28\", \"29\", \"30\", \"31\"], \"mode\": \"markers\", \"name\": \"precision_score_weighted\", \"stepped\": false, \"type\": \"scatter\", \"data\": [0.9521914850895895, 0.9699325092398894, 0.9390621678615277, 0.8391233244939192, 0.915878527145377, 0.9397601938980581, 0.9642686081919897, 0.8391233244939192, 0.8738739917409918, 0.9524242251702791, 0.9089692255878602, 0.9503131165688385, 0.8391233244939192, 0.9592897301351718, 0.9622696098761686, 0.8391233244939192, 0.9018801660779819, 0.9592711284482239, 0.9526905030323891, 0.9472821145642265, 0.9527619835207263, 0.9624684083770984, 0.942708990925591, 0.9593014730367777, 0.9597826621999491, 0.8391233244939192, 0.9595417461093874, 0.955721370424179, 0.9689380140090087, 0.95398976554061, 0.9732049500957748, 0.9640854289252196]}, {\"categories\": [\"0\", \"1\", \"2\", \"3\", \"4\", \"5\", \"6\", \"7\", \"8\", \"9\", \"10\", \"11\", \"12\", \"13\", \"14\", \"15\", \"16\", \"17\", \"18\", \"19\", \"20\", \"21\", \"22\", \"23\", \"24\", \"25\", \"26\", \"27\", \"28\", \"29\", \"30\", \"31\"], \"mode\": \"lines\", \"name\": \"precision_score_weighted_max\", \"stepped\": true, \"type\": \"scatter\", \"data\": [0.9521914850895895, 0.9699325092398894, 0.9699325092398894, 0.9699325092398894, 0.9699325092398894, 0.9699325092398894, 0.9699325092398894, 0.9699325092398894, 0.9699325092398894, 0.9699325092398894, 0.9699325092398894, 0.9699325092398894, 0.9699325092398894, 0.9699325092398894, 0.9699325092398894, 0.9699325092398894, 0.9699325092398894, 0.9699325092398894, 0.9699325092398894, 0.9699325092398894, 0.9699325092398894, 0.9699325092398894, 0.9699325092398894, 0.9699325092398894, 0.9699325092398894, 0.9699325092398894, 0.9699325092398894, 0.9699325092398894, 0.9699325092398894, 0.9699325092398894, 0.9732049500957748, 0.9732049500957748]}], \"precision_score_macro\": [{\"categories\": [\"0\", \"1\", \"2\", \"3\", \"4\", \"5\", \"6\", \"7\", \"8\", \"9\", \"10\", \"11\", \"12\", \"13\", \"14\", \"15\", \"16\", \"17\", \"18\", \"19\", \"20\", \"21\", \"22\", \"23\", \"24\", \"25\", \"26\", \"27\", \"28\", \"29\", \"30\", \"31\"], \"mode\": \"markers\", \"name\": \"precision_score_macro\", \"stepped\": false, \"type\": \"scatter\", \"data\": [0.9014897375394236, 0.9467922452444365, 0.9450882449678636, 0.45800188364848227, 0.6905974398441033, 0.794093975531024, 0.9211670185315506, 0.45800188364848227, 0.6147139275131068, 0.9077325247256081, 0.7503042481362076, 0.9072352357186938, 0.45800188364848227, 0.9072039802935662, 0.9188612864034119, 0.45800188364848227, 0.777803873850893, 0.9072543390032403, 0.9438855735530928, 0.971205669366119, 0.9420505871725383, 0.9187085901517383, 0.8609489568630863, 0.9290471746573591, 0.9412895013844024, 0.45800188364848227, 0.9084158505579585, 0.903707035963042, 0.954663197010758, 0.9135368549686738, 0.9569018446397503, 0.935229541646932]}, {\"categories\": [\"0\", \"1\", \"2\", \"3\", \"4\", \"5\", \"6\", \"7\", \"8\", \"9\", \"10\", \"11\", \"12\", \"13\", \"14\", \"15\", \"16\", \"17\", \"18\", \"19\", \"20\", \"21\", \"22\", \"23\", \"24\", \"25\", \"26\", \"27\", \"28\", \"29\", \"30\", \"31\"], \"mode\": \"lines\", \"name\": \"precision_score_macro_max\", \"stepped\": true, \"type\": \"scatter\", \"data\": [0.9014897375394236, 0.9467922452444365, 0.9467922452444365, 0.9467922452444365, 0.9467922452444365, 0.9467922452444365, 0.9467922452444365, 0.9467922452444365, 0.9467922452444365, 0.9467922452444365, 0.9467922452444365, 0.9467922452444365, 0.9467922452444365, 0.9467922452444365, 0.9467922452444365, 0.9467922452444365, 0.9467922452444365, 0.9467922452444365, 0.9467922452444365, 0.971205669366119, 0.971205669366119, 0.971205669366119, 0.971205669366119, 0.971205669366119, 0.971205669366119, 0.971205669366119, 0.971205669366119, 0.971205669366119, 0.971205669366119, 0.971205669366119, 0.971205669366119, 0.971205669366119]}]}, \"metricName\": null, \"primaryMetricName\": \"accuracy\", \"showLegend\": false}, \"run_metrics\": [{\"name\": \"experiment_status\", \"run_id\": \"AutoML_feaca0fa-04ae-4c0b-97e6-88c8961212d8\", \"categories\": [0, 1, 2, 3, 4, 5, 6, 7, 8, 9, 10, 11, 12, 13, 14], \"series\": [{\"data\": [\"DatasetEvaluation\", \"FeaturesGeneration\", \"DatasetFeaturization\", \"DatasetFeaturizationCompleted\", \"DatasetBalancing\", \"DatasetCrossValidationSplit\", \"ModelSelection\", \"BestRunExplainModel\", \"ModelExplanationDataSetSetup\", \"PickSurrogateModel\", \"EngineeredFeatureExplanations\", \"EngineeredFeatureExplanations\", \"RawFeaturesExplanations\", \"RawFeaturesExplanations\", \"BestRunExplainModel\"]}]}, {\"name\": \"experiment_status_description\", \"run_id\": \"AutoML_feaca0fa-04ae-4c0b-97e6-88c8961212d8\", \"categories\": [0, 1, 2, 3, 4, 5, 6, 7, 8, 9, 10, 11, 12, 13, 14], \"series\": [{\"data\": [\"Gathering dataset statistics.\", \"Generating features for the dataset.\", \"Beginning to fit featurizers and featurize the dataset.\", \"Completed fit featurizers and featurizing the dataset.\", \"Performing class balancing sweeping\", \"Generating individually featurized CV splits.\", \"Beginning model selection.\", \"Best run model explanations started\", \"Model explanations data setup completed\", \"Choosing LightGBM as the surrogate model for explanations\", \"Computation of engineered features started\", \"Computation of engineered features completed\", \"Computation of raw features started\", \"Computation of raw features completed\", \"Best run model explanations completed\"]}]}, {\"name\": \"average_precision_score_weighted\", \"run_id\": \"AutoML_feaca0fa-04ae-4c0b-97e6-88c8961212d8\", \"categories\": [0], \"series\": [{\"data\": [0.9798323647431255]}]}, {\"name\": \"matthews_correlation\", \"run_id\": \"AutoML_feaca0fa-04ae-4c0b-97e6-88c8961212d8\", \"categories\": [0], \"series\": [{\"data\": [0.8129931305838441]}]}, {\"name\": \"norm_macro_recall\", \"run_id\": \"AutoML_feaca0fa-04ae-4c0b-97e6-88c8961212d8\", \"categories\": [0], \"series\": [{\"data\": [0.7272878338047706]}]}, {\"name\": \"precision_score_macro\", \"run_id\": \"AutoML_feaca0fa-04ae-4c0b-97e6-88c8961212d8\", \"categories\": [0], \"series\": [{\"data\": [0.9569018446397503]}]}, {\"name\": \"accuracy\", \"run_id\": \"AutoML_feaca0fa-04ae-4c0b-97e6-88c8961212d8\", \"categories\": [0], \"series\": [{\"data\": [0.9735637180323119]}]}, {\"name\": \"AUC_macro\", \"run_id\": \"AutoML_feaca0fa-04ae-4c0b-97e6-88c8961212d8\", \"categories\": [0], \"series\": [{\"data\": [0.947596147803092]}]}, {\"name\": \"precision_score_weighted\", \"run_id\": \"AutoML_feaca0fa-04ae-4c0b-97e6-88c8961212d8\", \"categories\": [0], \"series\": [{\"data\": [0.9732049500957748]}]}, {\"name\": \"recall_score_macro\", \"run_id\": \"AutoML_feaca0fa-04ae-4c0b-97e6-88c8961212d8\", \"categories\": [0], \"series\": [{\"data\": [0.8636439169023852]}]}, {\"name\": \"log_loss\", \"run_id\": \"AutoML_feaca0fa-04ae-4c0b-97e6-88c8961212d8\", \"categories\": [0], \"series\": [{\"data\": [0.1650462768239741]}]}, {\"name\": \"recall_score_weighted\", \"run_id\": \"AutoML_feaca0fa-04ae-4c0b-97e6-88c8961212d8\", \"categories\": [0], \"series\": [{\"data\": [0.9735637180323119]}]}, {\"name\": \"f1_score_weighted\", \"run_id\": \"AutoML_feaca0fa-04ae-4c0b-97e6-88c8961212d8\", \"categories\": [0], \"series\": [{\"data\": [0.971957258969308]}]}, {\"name\": \"precision_score_micro\", \"run_id\": \"AutoML_feaca0fa-04ae-4c0b-97e6-88c8961212d8\", \"categories\": [0], \"series\": [{\"data\": [0.9735637180323119]}]}, {\"name\": \"f1_score_micro\", \"run_id\": \"AutoML_feaca0fa-04ae-4c0b-97e6-88c8961212d8\", \"categories\": [0], \"series\": [{\"data\": [0.9735637180323119]}]}, {\"name\": \"weighted_accuracy\", \"run_id\": \"AutoML_feaca0fa-04ae-4c0b-97e6-88c8961212d8\", \"categories\": [0], \"series\": [{\"data\": [0.9928238615370155]}]}, {\"name\": \"average_precision_score_micro\", \"run_id\": \"AutoML_feaca0fa-04ae-4c0b-97e6-88c8961212d8\", \"categories\": [0], \"series\": [{\"data\": [0.9879848897530924]}]}, {\"name\": \"AUC_micro\", \"run_id\": \"AutoML_feaca0fa-04ae-4c0b-97e6-88c8961212d8\", \"categories\": [0], \"series\": [{\"data\": [0.9894736277481612]}]}, {\"name\": \"balanced_accuracy\", \"run_id\": \"AutoML_feaca0fa-04ae-4c0b-97e6-88c8961212d8\", \"categories\": [0], \"series\": [{\"data\": [0.8636439169023852]}]}, {\"name\": \"average_precision_score_macro\", \"run_id\": \"AutoML_feaca0fa-04ae-4c0b-97e6-88c8961212d8\", \"categories\": [0], \"series\": [{\"data\": [0.9179451772182171]}]}, {\"name\": \"f1_score_macro\", \"run_id\": \"AutoML_feaca0fa-04ae-4c0b-97e6-88c8961212d8\", \"categories\": [0], \"series\": [{\"data\": [0.9015028308037589]}]}, {\"name\": \"recall_score_micro\", \"run_id\": \"AutoML_feaca0fa-04ae-4c0b-97e6-88c8961212d8\", \"categories\": [0], \"series\": [{\"data\": [0.9735637180323119]}]}, {\"name\": \"AUC_weighted\", \"run_id\": \"AutoML_feaca0fa-04ae-4c0b-97e6-88c8961212d8\", \"categories\": [0], \"series\": [{\"data\": [0.9475961478030919]}]}], \"run_logs\": \"\\nRun is completed.\", \"graph\": {}, \"widget_settings\": {\"childWidgetDisplay\": \"popup\", \"send_telemetry\": false, \"log_level\": \"INFO\", \"sdk_version\": \"1.19.0\"}, \"loading\": false}"
     },
     "metadata": {},
     "output_type": "display_data"
    }
   ],
   "source": [
    "RunDetails(remote_run).show()"
   ]
  },
  {
   "cell_type": "markdown",
   "metadata": {},
   "source": [
    "## Best Model\n",
    "\n",
    "TODO: In the cell below, get the best model from the automl experiments and display all the properties of the model.\n",
    "\n"
   ]
  },
  {
   "cell_type": "code",
   "execution_count": 24,
   "metadata": {
    "gather": {
     "logged": 1610809291559
    },
    "jupyter": {
     "outputs_hidden": false,
     "source_hidden": false
    },
    "nteract": {
     "transient": {
      "deleting": false
     }
    }
   },
   "outputs": [
    {
     "name": "stdout",
     "output_type": "stream",
     "text": [
      "Run(Experiment: auto_ml_exp,\n",
      "Id: AutoML_feaca0fa-04ae-4c0b-97e6-88c8961212d8_30,\n",
      "Type: azureml.scriptrun,\n",
      "Status: Completed)\n",
      "Pipeline(memory=None,\n",
      "         steps=[('datatransformer',\n",
      "                 DataTransformer(enable_dnn=None, enable_feature_sweeping=None,\n",
      "                                 feature_sweeping_config=None,\n",
      "                                 feature_sweeping_timeout=None,\n",
      "                                 featurization_config=None, force_text_dnn=None,\n",
      "                                 is_cross_validation=None,\n",
      "                                 is_onnx_compatible=None, logger=None,\n",
      "                                 observer=None, task=None, working_dir=None)),\n",
      "                ('prefittedsoftvotingclassifier',...\n",
      "                                                                                                    min_samples_leaf=0.01,\n",
      "                                                                                                    min_samples_split=0.01,\n",
      "                                                                                                    min_weight_fraction_leaf=0.0,\n",
      "                                                                                                    n_estimators=25,\n",
      "                                                                                                    n_jobs=-1,\n",
      "                                                                                                    oob_score=True,\n",
      "                                                                                                    random_state=None,\n",
      "                                                                                                    verbose=0,\n",
      "                                                                                                    warm_start=False))],\n",
      "                                                                     verbose=False))],\n",
      "                                               flatten_transform=None,\n",
      "                                               weights=[0.42857142857142855,\n",
      "                                                        0.07142857142857142,\n",
      "                                                        0.07142857142857142,\n",
      "                                                        0.07142857142857142,\n",
      "                                                        0.14285714285714285,\n",
      "                                                        0.07142857142857142,\n",
      "                                                        0.14285714285714285]))],\n",
      "         verbose=False)\n"
     ]
    }
   ],
   "source": [
    "best_run, fitted_model = remote_run.get_output()\n",
    "print(best_run)\n",
    "print(fitted_model)\n",
    "\n",
    "model_ml = best_run.register_model(model_name='Cervical_Cancer_prediction_Schiller_auto_ml', model_path='./')"
   ]
  },
  {
   "cell_type": "code",
   "execution_count": null,
   "metadata": {
    "gather": {
     "logged": 1598431426111
    },
    "jupyter": {
     "outputs_hidden": false,
     "source_hidden": false
    },
    "nteract": {
     "transient": {
      "deleting": false
     }
    }
   },
   "outputs": [],
   "source": [
    "#TODO: Save the best model"
   ]
  },
  {
   "cell_type": "markdown",
   "metadata": {},
   "source": [
    "## Model Deployment\n",
    "\n",
    "Remember you have to deploy only one of the two models you trained.. Perform the steps in the rest of this notebook only if you wish to deploy this model.\n",
    "\n",
    "TODO: In the cell below, register the model, create an inference config and deploy the model as a web service."
   ]
  },
  {
   "cell_type": "code",
   "execution_count": null,
   "metadata": {
    "gather": {
     "logged": 1598431435189
    },
    "jupyter": {
     "outputs_hidden": false,
     "source_hidden": false
    },
    "nteract": {
     "transient": {
      "deleting": false
     }
    }
   },
   "outputs": [],
   "source": []
  },
  {
   "cell_type": "markdown",
   "metadata": {
    "collapsed": true,
    "gather": {
     "logged": 1598431657736
    },
    "jupyter": {
     "outputs_hidden": false,
     "source_hidden": false
    },
    "nteract": {
     "transient": {
      "deleting": false
     }
    }
   },
   "source": [
    "TODO: In the cell below, send a request to the web service you deployed to test it."
   ]
  },
  {
   "cell_type": "code",
   "execution_count": null,
   "metadata": {
    "gather": {
     "logged": 1598432707604
    },
    "jupyter": {
     "outputs_hidden": false,
     "source_hidden": false
    },
    "nteract": {
     "transient": {
      "deleting": false
     }
    }
   },
   "outputs": [],
   "source": []
  },
  {
   "cell_type": "markdown",
   "metadata": {
    "collapsed": true,
    "gather": {
     "logged": 1598432765711
    },
    "jupyter": {
     "outputs_hidden": false,
     "source_hidden": false
    },
    "nteract": {
     "transient": {
      "deleting": false
     }
    }
   },
   "source": [
    "TODO: In the cell below, print the logs of the web service and delete the service"
   ]
  },
  {
   "cell_type": "code",
   "execution_count": null,
   "metadata": {
    "jupyter": {
     "outputs_hidden": false,
     "source_hidden": false
    },
    "nteract": {
     "transient": {
      "deleting": false
     }
    }
   },
   "outputs": [],
   "source": []
  }
 ],
 "metadata": {
  "kernel_info": {
   "name": "python3"
  },
  "kernelspec": {
   "display_name": "Python 3",
   "language": "python",
   "name": "python3"
  },
  "language_info": {
   "codemirror_mode": {
    "name": "ipython",
    "version": 3
   },
   "file_extension": ".py",
   "mimetype": "text/x-python",
   "name": "python",
   "nbconvert_exporter": "python",
   "pygments_lexer": "ipython3",
   "version": "3.6.8"
  },
  "nteract": {
   "version": "nteract-front-end@1.0.0"
  }
 },
 "nbformat": 4,
 "nbformat_minor": 2
}
